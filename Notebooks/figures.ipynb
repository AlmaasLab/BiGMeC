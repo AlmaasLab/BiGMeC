{
 "cells": [
  {
   "cell_type": "code",
   "execution_count": 147,
   "metadata": {},
   "outputs": [
    {
     "name": "stderr",
     "output_type": "stream",
     "text": [
      "C:\\Users\\snorres\\AppData\\Local\\Continuum\\miniconda3\\lib\\site-packages\\statsmodels\\tools\\_testing.py:19: FutureWarning: pandas.util.testing is deprecated. Use the functions in the public API at pandas.testing instead.\n",
      "  import pandas.util.testing as tm\n"
     ]
    }
   ],
   "source": [
    "import matplotlib.pyplot as plt\n",
    "import pandas as pd\n",
    "import seaborn as sns\n",
    "from Bio import SeqIO\n",
    "# plt.style.use(\"seaborn\")\n"
   ]
  },
  {
   "cell_type": "code",
   "execution_count": 29,
   "metadata": {},
   "outputs": [
    {
     "name": "stdout",
     "output_type": "stream",
     "text": [
      "                          Correct  Total      Ratio\n",
      "Domain function in total      177    215  82.325581\n",
      "Extender units                 72     92  78.260870\n",
      "Non-extending domains         103    123  83.739837\n",
      "Starter units                   5      8  62.500000\n"
     ]
    },
    {
     "data": {
      "text/plain": [
       "Text(82, 0, '175/223')"
      ]
     },
     "execution_count": 29,
     "metadata": {},
     "output_type": "execute_result"
    },
    {
     "data": {
      "image/png": "[encoded data removed]",
      "text/plain": [
       "<Figure size 864x576 with 1 Axes>"
      ]
     },
     "metadata": {
      "needs_background": "light"
     },
     "output_type": "display_data"
    }
   ],
   "source": [
    "prediction_scores = {\n",
    "    \"Domain function in total\": [177, 215],\n",
    "    \"Extender units\": [72, 92],\n",
    "    \"Non-extending domains\": [103, 123],\n",
    "    \"Starter units\": [5, 8]}\n",
    "\n",
    "\n",
    "fig, ax = plt.subplots(1, figsize = (12, 8))\n",
    "df = pd.DataFrame(prediction_scores).T\n",
    "df.columns = [\"Correct\", \"Total\"]\n",
    "df[\"Ratio\"] = 100*df[\"Correct\"] / df[\"Total\"]\n",
    "print(df)\n",
    "b = sns.barplot(y = df.index, x = \"Ratio\", data = df, ax = ax)\n",
    "sns.despine()\n",
    "ax.set_xlabel(\"Correct predictions [%]\")\n",
    "ax.set_ylabel(\"\")\n",
    "ax.annotate(\"175/223\", (82, -0))"
   ]
  },
  {
   "cell_type": "code",
   "execution_count": 22,
   "metadata": {},
   "outputs": [
    {
     "name": "stdout",
     "output_type": "stream",
     "text": [
      "0.8\n",
      "(0, -0.4)\n",
      "0.8\n",
      "(0, 0.6)\n",
      "0.8\n",
      "(0, 1.6)\n",
      "0.8\n",
      "(0, 2.6)\n"
     ]
    }
   ],
   "source": [
    "for bar in b.patches:\n",
    "    print(bar.get_height())\n",
    "    print(bar.get_xy())"
   ]
  },
  {
   "cell_type": "markdown",
   "metadata": {},
   "source": [
    "# Figure 2\n"
   ]
  },
  {
   "cell_type": "code",
   "execution_count": 68,
   "metadata": {},
   "outputs": [],
   "source": [
    "import pandas as pd\n",
    "from Bio import SeqIO\n",
    "import matplotlib.pyplot as plt"
   ]
  },
  {
   "cell_type": "code",
   "execution_count": 157,
   "metadata": {},
   "outputs": [],
   "source": [
    "def _get_strain_knowledge(cluster_path):  # yes\n",
    "    gb_list = []\n",
    "    for gb_record in SeqIO.parse(open(cluster_path, \"r\"), \"genbank\"):\n",
    "        gb_list.append(gb_record)\n",
    "    g = gb_list[0]\n",
    "    return g.annotations[\"taxonomy\"]"
   ]
  },
  {
   "cell_type": "code",
   "execution_count": 3,
   "metadata": {},
   "outputs": [
    {
     "name": "stdout",
     "output_type": "stream",
     "text": [
      "       BGC  Success     BGC type\n",
      "0        1        1        T1PKS\n",
      "1       10        0          NaN\n",
      "2      100        1        T1PKS\n",
      "3     1000        1         NRPS\n",
      "4     1001        1         NRPS\n",
      "...    ...      ...          ...\n",
      "1878   995        1  transAT-PKS\n",
      "1879   996        1         NRPS\n",
      "1880   997        1         NRPS\n",
      "1881   998        1         NRPS\n",
      "1882   999        1         NRPS\n",
      "\n",
      "[1883 rows x 3 columns]\n"
     ]
    }
   ],
   "source": [
    "\"\"\" Create the figure displaying the number of successful bigmec constructions\"\"\"\n",
    "filename = \"../Data/constructed_pathways/summary.csv\"\n",
    "df = pd.read_csv(filename, index_col = 0)\n",
    "print(df)"
   ]
  },
  {
   "cell_type": "code",
   "execution_count": 47,
   "metadata": {},
   "outputs": [
    {
     "name": "stderr",
     "output_type": "stream",
     "text": [
      "C:\\Users\\snorres\\AppData\\Local\\Continuum\\miniconda3\\lib\\site-packages\\ipykernel_launcher.py:11: SettingWithCopyWarning: \n",
      "A value is trying to be set on a copy of a slice from a DataFrame.\n",
      "Try using .loc[row_indexer,col_indexer] = value instead\n",
      "\n",
      "See the caveats in the documentation: https://pandas.pydata.org/pandas-docs/stable/user_guide/indexing.html#returning-a-view-versus-a-copy\n",
      "  # This is added back by InteractiveShellApp.init_path()\n"
     ]
    }
   ],
   "source": [
    "# Rename\n",
    "df_success = df.loc[df[\"Success\"]== 1, :]\n",
    "bgc_type_merge =  []\n",
    "for x in  df_success[\"BGC type\"]:\n",
    "    lst = x.split(\"-\")\n",
    "    if (len(lst) > 1) and lst[0]==lst[1]:\n",
    "        bgc_type_merge.append(lst[0])\n",
    "    else:\n",
    "        bgc_type_merge.append(x)\n",
    "        \n",
    "df_success[\"BGC class\"] = bgc_type_merge"
   ]
  },
  {
   "cell_type": "code",
   "execution_count": 54,
   "metadata": {},
   "outputs": [],
   "source": [
    "cluster_types = df_success.groupby(\"BGC class\").count()"
   ]
  },
  {
   "cell_type": "code",
   "execution_count": 63,
   "metadata": {},
   "outputs": [],
   "source": [
    "cluster_types[\"BGC\"].name = \"\""
   ]
  },
  {
   "cell_type": "code",
   "execution_count": 69,
   "metadata": {},
   "outputs": [
    {
     "data": {
      "image/png": "[encoded data removed]",
      "text/plain": [
       "<Figure size 432x432 with 1 Axes>"
      ]
     },
     "metadata": {},
     "output_type": "display_data"
    }
   ],
   "source": [
    "# Convert to treemap\n",
    "fig = cluster_types[\"BGC\"].plot(title = None, figsize = (6, 6), kind = \"pie\")\n",
    "plt.savefig(\"bigmec_pie_chart.svg\")"
   ]
  },
  {
   "cell_type": "code",
   "execution_count": 149,
   "metadata": {},
   "outputs": [
    {
     "data": {
      "text/html": [
       "<div>\n",
       "<style scoped>\n",
       "    .dataframe tbody tr th:only-of-type {\n",
       "        vertical-align: middle;\n",
       "    }\n",
       "\n",
       "    .dataframe tbody tr th {\n",
       "        vertical-align: top;\n",
       "    }\n",
       "\n",
       "    .dataframe thead th {\n",
       "        text-align: right;\n",
       "    }\n",
       "</style>\n",
       "<table border=\"1\" class=\"dataframe\">\n",
       "  <thead>\n",
       "    <tr style=\"text-align: right;\">\n",
       "      <th></th>\n",
       "      <th>BGC</th>\n",
       "      <th>Success</th>\n",
       "      <th>BGC type</th>\n",
       "      <th>BGC class</th>\n",
       "    </tr>\n",
       "  </thead>\n",
       "  <tbody>\n",
       "    <tr>\n",
       "      <th>0</th>\n",
       "      <td>1</td>\n",
       "      <td>1</td>\n",
       "      <td>T1PKS</td>\n",
       "      <td>T1PKS</td>\n",
       "    </tr>\n",
       "    <tr>\n",
       "      <th>2</th>\n",
       "      <td>100</td>\n",
       "      <td>1</td>\n",
       "      <td>T1PKS</td>\n",
       "      <td>T1PKS</td>\n",
       "    </tr>\n",
       "    <tr>\n",
       "      <th>3</th>\n",
       "      <td>1000</td>\n",
       "      <td>1</td>\n",
       "      <td>NRPS</td>\n",
       "      <td>NRPS</td>\n",
       "    </tr>\n",
       "    <tr>\n",
       "      <th>4</th>\n",
       "      <td>1001</td>\n",
       "      <td>1</td>\n",
       "      <td>NRPS</td>\n",
       "      <td>NRPS</td>\n",
       "    </tr>\n",
       "    <tr>\n",
       "      <th>5</th>\n",
       "      <td>1002</td>\n",
       "      <td>1</td>\n",
       "      <td>NRPS</td>\n",
       "      <td>NRPS</td>\n",
       "    </tr>\n",
       "    <tr>\n",
       "      <th>...</th>\n",
       "      <td>...</td>\n",
       "      <td>...</td>\n",
       "      <td>...</td>\n",
       "      <td>...</td>\n",
       "    </tr>\n",
       "    <tr>\n",
       "      <th>1878</th>\n",
       "      <td>995</td>\n",
       "      <td>1</td>\n",
       "      <td>transAT-PKS</td>\n",
       "      <td>transAT-PKS</td>\n",
       "    </tr>\n",
       "    <tr>\n",
       "      <th>1879</th>\n",
       "      <td>996</td>\n",
       "      <td>1</td>\n",
       "      <td>NRPS</td>\n",
       "      <td>NRPS</td>\n",
       "    </tr>\n",
       "    <tr>\n",
       "      <th>1880</th>\n",
       "      <td>997</td>\n",
       "      <td>1</td>\n",
       "      <td>NRPS</td>\n",
       "      <td>NRPS</td>\n",
       "    </tr>\n",
       "    <tr>\n",
       "      <th>1881</th>\n",
       "      <td>998</td>\n",
       "      <td>1</td>\n",
       "      <td>NRPS</td>\n",
       "      <td>NRPS</td>\n",
       "    </tr>\n",
       "    <tr>\n",
       "      <th>1882</th>\n",
       "      <td>999</td>\n",
       "      <td>1</td>\n",
       "      <td>NRPS</td>\n",
       "      <td>NRPS</td>\n",
       "    </tr>\n",
       "  </tbody>\n",
       "</table>\n",
       "<p>1076 rows × 4 columns</p>\n",
       "</div>"
      ],
      "text/plain": [
       "       BGC  Success     BGC type    BGC class\n",
       "0        1        1        T1PKS        T1PKS\n",
       "2      100        1        T1PKS        T1PKS\n",
       "3     1000        1         NRPS         NRPS\n",
       "4     1001        1         NRPS         NRPS\n",
       "5     1002        1         NRPS         NRPS\n",
       "...    ...      ...          ...          ...\n",
       "1878   995        1  transAT-PKS  transAT-PKS\n",
       "1879   996        1         NRPS         NRPS\n",
       "1880   997        1         NRPS         NRPS\n",
       "1881   998        1         NRPS         NRPS\n",
       "1882   999        1         NRPS         NRPS\n",
       "\n",
       "[1076 rows x 4 columns]"
      ]
     },
     "execution_count": 149,
     "metadata": {},
     "output_type": "execute_result"
    }
   ],
   "source": [
    "df_success"
   ]
  },
  {
   "cell_type": "code",
   "execution_count": 158,
   "metadata": {},
   "outputs": [],
   "source": [
    "bgc_ids = list(df_success[\"BGC\"])\n",
    "taxonomy_list = []\n",
    "for i in bgc_ids:\n",
    "    fn = \"../Data/mibig/{0}.gbk\".format(i)\n",
    "    tax = _get_strain_knowledge(fn)\n",
    "    taxonomy_list.append(tax)"
   ]
  },
  {
   "cell_type": "code",
   "execution_count": 209,
   "metadata": {},
   "outputs": [],
   "source": [
    "df_tax = pd.DataFrame(taxonomy_list)\n",
    "df_tax = df_tax.sort_values(0)"
   ]
  },
  {
   "cell_type": "code",
   "execution_count": 160,
   "metadata": {},
   "outputs": [
    {
     "data": {
      "text/html": [
       "<div>\n",
       "<style scoped>\n",
       "    .dataframe tbody tr th:only-of-type {\n",
       "        vertical-align: middle;\n",
       "    }\n",
       "\n",
       "    .dataframe tbody tr th {\n",
       "        vertical-align: top;\n",
       "    }\n",
       "\n",
       "    .dataframe thead th {\n",
       "        text-align: right;\n",
       "    }\n",
       "</style>\n",
       "<table border=\"1\" class=\"dataframe\">\n",
       "  <thead>\n",
       "    <tr style=\"text-align: right;\">\n",
       "      <th></th>\n",
       "      <th>0</th>\n",
       "      <th>1</th>\n",
       "      <th>2</th>\n",
       "      <th>3</th>\n",
       "      <th>4</th>\n",
       "      <th>5</th>\n",
       "      <th>6</th>\n",
       "      <th>7</th>\n",
       "      <th>8</th>\n",
       "      <th>9</th>\n",
       "      <th>10</th>\n",
       "      <th>11</th>\n",
       "    </tr>\n",
       "  </thead>\n",
       "  <tbody>\n",
       "    <tr>\n",
       "      <th>0</th>\n",
       "      <td>Bacteria</td>\n",
       "      <td>Actinobacteria</td>\n",
       "      <td>Micromonosporales</td>\n",
       "      <td>Micromonosporaceae</td>\n",
       "      <td>Verrucosispora</td>\n",
       "      <td>None</td>\n",
       "      <td>None</td>\n",
       "      <td>None</td>\n",
       "      <td>None</td>\n",
       "      <td>None</td>\n",
       "      <td>None</td>\n",
       "      <td>None</td>\n",
       "    </tr>\n",
       "    <tr>\n",
       "      <th>1</th>\n",
       "      <td>Bacteria</td>\n",
       "      <td>Actinobacteria</td>\n",
       "      <td>Streptomycetales</td>\n",
       "      <td>Streptomycetaceae</td>\n",
       "      <td>Streptomyces</td>\n",
       "      <td>None</td>\n",
       "      <td>None</td>\n",
       "      <td>None</td>\n",
       "      <td>None</td>\n",
       "      <td>None</td>\n",
       "      <td>None</td>\n",
       "      <td>None</td>\n",
       "    </tr>\n",
       "    <tr>\n",
       "      <th>2</th>\n",
       "      <td>Bacteria</td>\n",
       "      <td>Cyanobacteria</td>\n",
       "      <td>Oscillatoriophycideae</td>\n",
       "      <td>Oscillatoriales</td>\n",
       "      <td>Oscillatoriaceae</td>\n",
       "      <td>Lyngbya</td>\n",
       "      <td>None</td>\n",
       "      <td>None</td>\n",
       "      <td>None</td>\n",
       "      <td>None</td>\n",
       "      <td>None</td>\n",
       "      <td>None</td>\n",
       "    </tr>\n",
       "    <tr>\n",
       "      <th>3</th>\n",
       "      <td>Bacteria</td>\n",
       "      <td>Cyanobacteria</td>\n",
       "      <td>Oscillatoriophycideae</td>\n",
       "      <td>Oscillatoriales</td>\n",
       "      <td>Oscillatoriaceae</td>\n",
       "      <td>Lyngbya</td>\n",
       "      <td>None</td>\n",
       "      <td>None</td>\n",
       "      <td>None</td>\n",
       "      <td>None</td>\n",
       "      <td>None</td>\n",
       "      <td>None</td>\n",
       "    </tr>\n",
       "    <tr>\n",
       "      <th>4</th>\n",
       "      <td>Bacteria</td>\n",
       "      <td>Actinobacteria</td>\n",
       "      <td>Streptomycetales</td>\n",
       "      <td>Streptomycetaceae</td>\n",
       "      <td>Streptomyces</td>\n",
       "      <td>None</td>\n",
       "      <td>None</td>\n",
       "      <td>None</td>\n",
       "      <td>None</td>\n",
       "      <td>None</td>\n",
       "      <td>None</td>\n",
       "      <td>None</td>\n",
       "    </tr>\n",
       "    <tr>\n",
       "      <th>...</th>\n",
       "      <td>...</td>\n",
       "      <td>...</td>\n",
       "      <td>...</td>\n",
       "      <td>...</td>\n",
       "      <td>...</td>\n",
       "      <td>...</td>\n",
       "      <td>...</td>\n",
       "      <td>...</td>\n",
       "      <td>...</td>\n",
       "      <td>...</td>\n",
       "      <td>...</td>\n",
       "      <td>...</td>\n",
       "    </tr>\n",
       "    <tr>\n",
       "      <th>1071</th>\n",
       "      <td>Bacteria</td>\n",
       "      <td>Proteobacteria</td>\n",
       "      <td>Gammaproteobacteria</td>\n",
       "      <td>Pseudomonadales</td>\n",
       "      <td>Pseudomonadaceae</td>\n",
       "      <td>Pseudomonas</td>\n",
       "      <td>None</td>\n",
       "      <td>None</td>\n",
       "      <td>None</td>\n",
       "      <td>None</td>\n",
       "      <td>None</td>\n",
       "      <td>None</td>\n",
       "    </tr>\n",
       "    <tr>\n",
       "      <th>1072</th>\n",
       "      <td>Bacteria</td>\n",
       "      <td>Actinobacteria</td>\n",
       "      <td>Streptomycetales</td>\n",
       "      <td>Streptomycetaceae</td>\n",
       "      <td>Streptomyces</td>\n",
       "      <td>None</td>\n",
       "      <td>None</td>\n",
       "      <td>None</td>\n",
       "      <td>None</td>\n",
       "      <td>None</td>\n",
       "      <td>None</td>\n",
       "      <td>None</td>\n",
       "    </tr>\n",
       "    <tr>\n",
       "      <th>1073</th>\n",
       "      <td>Bacteria</td>\n",
       "      <td>Proteobacteria</td>\n",
       "      <td>Betaproteobacteria</td>\n",
       "      <td>Burkholderiales</td>\n",
       "      <td>None</td>\n",
       "      <td>None</td>\n",
       "      <td>None</td>\n",
       "      <td>None</td>\n",
       "      <td>None</td>\n",
       "      <td>None</td>\n",
       "      <td>None</td>\n",
       "      <td>None</td>\n",
       "    </tr>\n",
       "    <tr>\n",
       "      <th>1074</th>\n",
       "      <td>Bacteria</td>\n",
       "      <td>Actinobacteria</td>\n",
       "      <td>Streptomycetales</td>\n",
       "      <td>Streptomycetaceae</td>\n",
       "      <td>Streptomyces</td>\n",
       "      <td>None</td>\n",
       "      <td>None</td>\n",
       "      <td>None</td>\n",
       "      <td>None</td>\n",
       "      <td>None</td>\n",
       "      <td>None</td>\n",
       "      <td>None</td>\n",
       "    </tr>\n",
       "    <tr>\n",
       "      <th>1075</th>\n",
       "      <td>Bacteria</td>\n",
       "      <td>Proteobacteria</td>\n",
       "      <td>Gammaproteobacteria</td>\n",
       "      <td>Xanthomonadales</td>\n",
       "      <td>Xanthomonadaceae</td>\n",
       "      <td>Lysobacter</td>\n",
       "      <td>None</td>\n",
       "      <td>None</td>\n",
       "      <td>None</td>\n",
       "      <td>None</td>\n",
       "      <td>None</td>\n",
       "      <td>None</td>\n",
       "    </tr>\n",
       "  </tbody>\n",
       "</table>\n",
       "<p>1076 rows × 12 columns</p>\n",
       "</div>"
      ],
      "text/plain": [
       "             0               1                      2                   3  \\\n",
       "0     Bacteria  Actinobacteria      Micromonosporales  Micromonosporaceae   \n",
       "1     Bacteria  Actinobacteria       Streptomycetales   Streptomycetaceae   \n",
       "2     Bacteria   Cyanobacteria  Oscillatoriophycideae     Oscillatoriales   \n",
       "3     Bacteria   Cyanobacteria  Oscillatoriophycideae     Oscillatoriales   \n",
       "4     Bacteria  Actinobacteria       Streptomycetales   Streptomycetaceae   \n",
       "...        ...             ...                    ...                 ...   \n",
       "1071  Bacteria  Proteobacteria    Gammaproteobacteria     Pseudomonadales   \n",
       "1072  Bacteria  Actinobacteria       Streptomycetales   Streptomycetaceae   \n",
       "1073  Bacteria  Proteobacteria     Betaproteobacteria     Burkholderiales   \n",
       "1074  Bacteria  Actinobacteria       Streptomycetales   Streptomycetaceae   \n",
       "1075  Bacteria  Proteobacteria    Gammaproteobacteria     Xanthomonadales   \n",
       "\n",
       "                     4            5     6     7     8     9    10    11  \n",
       "0       Verrucosispora         None  None  None  None  None  None  None  \n",
       "1         Streptomyces         None  None  None  None  None  None  None  \n",
       "2     Oscillatoriaceae      Lyngbya  None  None  None  None  None  None  \n",
       "3     Oscillatoriaceae      Lyngbya  None  None  None  None  None  None  \n",
       "4         Streptomyces         None  None  None  None  None  None  None  \n",
       "...                ...          ...   ...   ...   ...   ...   ...   ...  \n",
       "1071  Pseudomonadaceae  Pseudomonas  None  None  None  None  None  None  \n",
       "1072      Streptomyces         None  None  None  None  None  None  None  \n",
       "1073              None         None  None  None  None  None  None  None  \n",
       "1074      Streptomyces         None  None  None  None  None  None  None  \n",
       "1075  Xanthomonadaceae   Lysobacter  None  None  None  None  None  None  \n",
       "\n",
       "[1076 rows x 12 columns]"
      ]
     },
     "execution_count": 160,
     "metadata": {},
     "output_type": "execute_result"
    }
   ],
   "source": [
    "df_tax"
   ]
  },
  {
   "cell_type": "code",
   "execution_count": 240,
   "metadata": {},
   "outputs": [],
   "source": [
    "#g1 = df_tax.groupby([1, 2]).size().unstack(fill_value = 0)\n",
    "g1 = df_tax.groupby(1).size()\n",
    "g01 = df_tax.groupby([0, 1]).size().unstack(fill_value = 0)"
   ]
  },
  {
   "cell_type": "code",
   "execution_count": 241,
   "metadata": {},
   "outputs": [],
   "source": [
    "g0 = df_tax.groupby(0).size()"
   ]
  },
  {
   "cell_type": "code",
   "execution_count": 242,
   "metadata": {},
   "outputs": [],
   "source": [
    "g1[\"Fungi\"] = g1.pop(\"Fungi\")\n"
   ]
  },
  {
   "cell_type": "code",
   "execution_count": 243,
   "metadata": {},
   "outputs": [
    {
     "data": {
      "text/plain": [
       "206"
      ]
     },
     "execution_count": 243,
     "metadata": {},
     "output_type": "execute_result"
    }
   ],
   "source": [
    " 206"
   ]
  },
  {
   "cell_type": "code",
   "execution_count": 244,
   "metadata": {},
   "outputs": [],
   "source": [
    "g1[\"Others\"] = g1[g1<5].sum()\n",
    "g1.name = \"\""
   ]
  },
  {
   "cell_type": "code",
   "execution_count": 245,
   "metadata": {},
   "outputs": [
    {
     "data": {
      "text/plain": [
       "<matplotlib.axes._subplots.AxesSubplot at 0x12a78448fd0>"
      ]
     },
     "execution_count": 245,
     "metadata": {},
     "output_type": "execute_result"
    },
    {
     "data": {
      "image/png": "[encoded data removed]",
      "text/plain": [
       "<Figure size 432x288 with 1 Axes>"
      ]
     },
     "metadata": {},
     "output_type": "display_data"
    }
   ],
   "source": [
    "g1[g1>5].plot(kind = \"pie\", )"
   ]
  },
  {
   "cell_type": "code",
   "execution_count": 256,
   "metadata": {},
   "outputs": [
    {
     "data": {
      "text/plain": [
       "[None, None, None, None, None, None, None, None, None, None, None, None]"
      ]
     },
     "execution_count": 256,
     "metadata": {},
     "output_type": "execute_result"
    },
    {
     "data": {
      "image/png": "[encoded data removed]",
      "text/plain": [
       "<Figure size 432x288 with 1 Axes>"
      ]
     },
     "metadata": {},
     "output_type": "display_data"
    }
   ],
   "source": [
    "pie,_,txt = plt.pie(g1[g1>5], labels = g1[g1>5].index, radius = 1,autopct='%1.2f%%',  pctdistance=.8, )\n",
    "plt.legend(loc = )\n",
    "width = 0.4\n",
    "plt.setp(pie, width=width, edgecolor='white')\n",
    "plt.setp(txt, size = 12)#, weight=\"bold\")\n",
    "#pi2, _ = plt.pie(g0, radius = 0.8)"
   ]
  },
  {
   "cell_type": "markdown",
   "metadata": {},
   "source": [
    "# Figure knockouts\n"
   ]
  },
  {
   "cell_type": "code",
   "execution_count": 73,
   "metadata": {},
   "outputs": [],
   "source": [
    "\n",
    "fn = \"../Data/knockouts/all_optknock_results_0.5.csv\"\n",
    "df = pd.read_csv(fn)"
   ]
  },
  {
   "cell_type": "code",
   "execution_count": 97,
   "metadata": {},
   "outputs": [],
   "source": [
    "g = df.groupby(\"BGC\")"
   ]
  },
  {
   "cell_type": "code",
   "execution_count": 95,
   "metadata": {},
   "outputs": [],
   "source": [
    "idx = g[\"Production\", \"B\"].max()"
   ]
  },
  {
   "cell_type": "code",
   "execution_count": 96,
   "metadata": {},
   "outputs": [
    {
     "data": {
      "text/plain": [
       "BGC\n",
       "1      1.039022\n",
       "2      1.018925\n",
       "4      1.061759\n",
       "6      1.061759\n",
       "7      1.061759\n",
       "         ...   \n",
       "463    1.002992\n",
       "465    1.009644\n",
       "467    1.024900\n",
       "682    1.061759\n",
       "684    1.061759\n",
       "Name: Production, Length: 225, dtype: float64"
      ]
     },
     "execution_count": 96,
     "metadata": {},
     "output_type": "execute_result"
    }
   ],
   "source": []
  },
  {
   "cell_type": "code",
   "execution_count": 101,
   "metadata": {},
   "outputs": [],
   "source": [
    "max_rows = []\n",
    "for i, group in g:\n",
    "    maxx = group[\"Production\"].max()\n",
    "    ix = group[\"Production\"] == maxx\n",
    "    selected = group.loc[ix, :]\n",
    "    \n",
    "    max_rows += list(selected.index)\n",
    "    "
   ]
  },
  {
   "cell_type": "code",
   "execution_count": 142,
   "metadata": {},
   "outputs": [],
   "source": [
    "max_df = df.loc[max_rows, [\"ID\", \"BGC type\"]]"
   ]
  },
  {
   "cell_type": "code",
   "execution_count": 143,
   "metadata": {},
   "outputs": [],
   "source": [
    "count_df = max_df.groupby(['ID', 'BGC type']).size().unstack(fill_value=0)"
   ]
  },
  {
   "cell_type": "code",
   "execution_count": 145,
   "metadata": {},
   "outputs": [
    {
     "data": {
      "text/plain": [
       "<matplotlib.legend.Legend at 0x12a7678d240>"
      ]
     },
     "execution_count": 145,
     "metadata": {},
     "output_type": "execute_result"
    },
    {
     "data": {
      "image/png": "[encoded data removed]",
      "text/plain": [
       "<Figure size 432x288 with 1 Axes>"
      ]
     },
     "metadata": {
      "needs_background": "light"
     },
     "output_type": "display_data"
    }
   ],
   "source": [
    "count_df_ratio = count_df/count_df.sum(axis = 0)\n",
    "count_df_ratio.T.plot(kind = \"barh\", stacked = True, cmap = \"tab20\")\n",
    "plt.legend(loc='center left', bbox_to_anchor=(1.0, 0.5))"
   ]
  },
  {
   "cell_type": "code",
   "execution_count": 100,
   "metadata": {},
   "outputs": [
    {
     "data": {
      "text/plain": [
       "[367]"
      ]
     },
     "execution_count": 100,
     "metadata": {},
     "output_type": "execute_result"
    }
   ],
   "source": [
    "list(selected.index)"
   ]
  },
  {
   "cell_type": "code",
   "execution_count": 123,
   "metadata": {},
   "outputs": [],
   "source": [
    "count_df_full = df.groupby(['ID', 'BGC type']).size().unstack(fill_value=0)"
   ]
  },
  {
   "cell_type": "code",
   "execution_count": 129,
   "metadata": {},
   "outputs": [],
   "source": [
    "count_df_full_ratio = count_df_full/count_df_full.sum(axis = 0)"
   ]
  },
  {
   "cell_type": "code",
   "execution_count": 134,
   "metadata": {},
   "outputs": [
    {
     "data": {
      "text/plain": [
       "<matplotlib.legend.Legend at 0x12a7664a128>"
      ]
     },
     "execution_count": 134,
     "metadata": {},
     "output_type": "execute_result"
    },
    {
     "data": {
      "image/png": "[encoded data removed]",
      "text/plain": [
       "<Figure size 432x288 with 1 Axes>"
      ]
     },
     "metadata": {
      "needs_background": "light"
     },
     "output_type": "display_data"
    }
   ],
   "source": [
    "count_df_full_ratio.T.plot(kind = \"barh\", stacked = True, cmap = \"tab20\")\n",
    "plt.legend(loc='center left', bbox_to_anchor=(1.0, 0.5))"
   ]
  },
  {
   "cell_type": "code",
   "execution_count": 139,
   "metadata": {},
   "outputs": [
    {
     "data": {
      "text/plain": [
       "<matplotlib.axes._subplots.AxesSubplot at 0x12a7678d748>"
      ]
     },
     "execution_count": 139,
     "metadata": {},
     "output_type": "execute_result"
    },
    {
     "data": {
      "image/png": "[encoded data removed]",
      "text/plain": [
       "<Figure size 432x288 with 1 Axes>"
      ]
     },
     "metadata": {},
     "output_type": "display_data"
    }
   ],
   "source": [
    "all_count = df.groupby(\"BGC type\").count()[\"BGC\"]\n",
    "all_count.name = \"\"\n",
    "all_count.plot(kind = \"pie\")"
   ]
  },
  {
   "cell_type": "code",
   "execution_count": null,
   "metadata": {},
   "outputs": [],
   "source": []
  }
 ],
 "metadata": {
  "kernelspec": {
   "display_name": "Python 3",
   "language": "python",
   "name": "python3"
  },
  "language_info": {
   "codemirror_mode": {
    "name": "ipython",
    "version": 3
   },
   "file_extension": ".py",
   "mimetype": "text/x-python",
   "name": "python",
   "nbconvert_exporter": "python",
   "pygments_lexer": "ipython3",
   "version": "3.7.3"
  }
 },
 "nbformat": 4,
 "nbformat_minor": 2
}
