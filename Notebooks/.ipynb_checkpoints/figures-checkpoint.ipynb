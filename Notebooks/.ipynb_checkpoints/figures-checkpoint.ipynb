{
 "cells": [
  {
   "cell_type": "code",
   "execution_count": 1,
   "metadata": {},
   "outputs": [
    {
     "name": "stderr",
     "output_type": "stream",
     "text": [
      "C:\\Users\\snorres\\AppData\\Local\\Continuum\\miniconda3\\lib\\site-packages\\statsmodels\\tools\\_testing.py:19: FutureWarning: pandas.util.testing is deprecated. Use the functions in the public API at pandas.testing instead.\n",
      "  import pandas.util.testing as tm\n"
     ]
    }
   ],
   "source": [
    "import matplotlib.pyplot as plt\n",
    "import pandas as pd\n",
    "import seaborn as sns\n",
    "# plt.style.use(\"seaborn\")\n"
   ]
  },
  {
   "cell_type": "code",
   "execution_count": 29,
   "metadata": {},
   "outputs": [
    {
     "name": "stdout",
     "output_type": "stream",
     "text": [
      "                          Correct  Total      Ratio\n",
      "Domain function in total      177    215  82.325581\n",
      "Extender units                 72     92  78.260870\n",
      "Non-extending domains         103    123  83.739837\n",
      "Starter units                   5      8  62.500000\n"
     ]
    },
    {
     "data": {
      "text/plain": [
       "Text(82, 0, '175/223')"
      ]
     },
     "execution_count": 29,
     "metadata": {},
     "output_type": "execute_result"
    },
    {
     "data": {
      "image/png": "[encoded data removed]",
      "text/plain": [
       "<Figure size 864x576 with 1 Axes>"
      ]
     },
     "metadata": {
      "needs_background": "light"
     },
     "output_type": "display_data"
    }
   ],
   "source": [
    "prediction_scores = {\n",
    "    \"Domain function in total\": [177, 215],\n",
    "    \"Extender units\": [72, 92],\n",
    "    \"Non-extending domains\": [103, 123],\n",
    "    \"Starter units\": [5, 8]}\n",
    "\n",
    "\n",
    "fig, ax = plt.subplots(1, figsize = (12, 8))\n",
    "df = pd.DataFrame(prediction_scores).T\n",
    "df.columns = [\"Correct\", \"Total\"]\n",
    "df[\"Ratio\"] = 100*df[\"Correct\"] / df[\"Total\"]\n",
    "print(df)\n",
    "b = sns.barplot(y = df.index, x = \"Ratio\", data = df, ax = ax)\n",
    "sns.despine()\n",
    "ax.set_xlabel(\"Correct predictions [%]\")\n",
    "ax.set_ylabel(\"\")\n",
    "ax.annotate(\"175/223\", (82, -0))"
   ]
  },
  {
   "cell_type": "code",
   "execution_count": 22,
   "metadata": {},
   "outputs": [
    {
     "name": "stdout",
     "output_type": "stream",
     "text": [
      "0.8\n",
      "(0, -0.4)\n",
      "0.8\n",
      "(0, 0.6)\n",
      "0.8\n",
      "(0, 1.6)\n",
      "0.8\n",
      "(0, 2.6)\n"
     ]
    }
   ],
   "source": [
    "for bar in b.patches:\n",
    "    print(bar.get_height())\n",
    "    print(bar.get_xy())"
   ]
  },
  {
   "cell_type": "code",
   "execution_count": 24,
   "metadata": {},
   "outputs": [
    {
     "data": {
      "text/plain": [
       "<bound method Artist.get_tightbbox of <matplotlib.patches.Rectangle object at 0x00000202DA98A358>>"
      ]
     },
     "execution_count": 24,
     "metadata": {},
     "output_type": "execute_result"
    }
   ],
   "source": []
  }
 ],
 "metadata": {
  "kernelspec": {
   "display_name": "Python 3",
   "language": "python",
   "name": "python3"
  },
  "language_info": {
   "codemirror_mode": {
    "name": "ipython",
    "version": 3
   },
   "file_extension": ".py",
   "mimetype": "text/x-python",
   "name": "python",
   "nbconvert_exporter": "python",
   "pygments_lexer": "ipython3",
   "version": "3.7.3"
  }
 },
 "nbformat": 4,
 "nbformat_minor": 2
}
