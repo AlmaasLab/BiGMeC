{
 "cells": [
  {
   "cell_type": "code",
   "execution_count": 123,
   "metadata": {
    "ExecuteTime": {
     "end_time": "2020-10-09T12:25:40.942576Z",
     "start_time": "2020-10-09T12:25:40.938578Z"
    }
   },
   "outputs": [],
   "source": [
    "import cobra\n",
    "import pandas as pd\n",
    "import sys\n",
    "sys.path.append(\"../Scripts\")\n",
    "\n",
    "from strain_design import optknock_brute_force"
   ]
  },
  {
   "cell_type": "code",
   "execution_count": 121,
   "metadata": {
    "ExecuteTime": {
     "end_time": "2020-10-09T12:25:19.057286Z",
     "start_time": "2020-10-09T12:25:13.491016Z"
    }
   },
   "outputs": [
    {
     "name": "stderr",
     "output_type": "stream",
     "text": [
      "ERROR:cobra.io.sbml:'' is not a valid SBML 'SId'.\n"
     ]
    }
   ],
   "source": [
    "model_fn = \"../Models/Sco-GEM.xml\"\n",
    "model = cobra.io.read_sbml_model(model_fn)"
   ]
  },
  {
   "cell_type": "code",
   "execution_count": 149,
   "metadata": {
    "ExecuteTime": {
     "end_time": "2020-10-09T12:35:19.044288Z",
     "start_time": "2020-10-09T12:35:19.041284Z"
    }
   },
   "outputs": [],
   "source": [
    "pathway_mibig_dict = {\n",
    "    \"Anabaenopeptin\": 302,\n",
    "    \"Bafilomycin\": 28,\n",
    "    \"Difficidin\": 176,\n",
    "    \"Geldanamycin\": 66,\n",
    "    \"Leupyrrin\": 380,\n",
    "    \"Oocydin\": 1031,\n",
    "    \"Oxazolomycin\": 1106,\n",
    "    \"Tolaasin\": 447\n",
    "}"
   ]
  },
  {
   "cell_type": "code",
   "execution_count": 200,
   "metadata": {
    "ExecuteTime": {
     "end_time": "2020-10-09T13:05:07.629721Z",
     "start_time": "2020-10-09T13:05:07.621716Z"
    }
   },
   "outputs": [
    {
     "data": {
      "text/plain": [
       "{'co2_c': 5,\n",
       " 'coa_c': 5,\n",
       " 'malcoa_c': -5,\n",
       " 'amp_c': 2,\n",
       " 'atp_c': -2,\n",
       " 'cys__L_c': -1,\n",
       " 'ppi_c': 2,\n",
       " 'h2o_c': 4.0,\n",
       " 'h_c': -2.0,\n",
       " 'nadp_c': 2.0,\n",
       " 'nadph_c': -2.0,\n",
       " 'ahcys_c': 2.0,\n",
       " 'amet_c': -2.0,\n",
       " 'pro__L_c': -1}"
      ]
     },
     "execution_count": 200,
     "metadata": {},
     "output_type": "execute_result"
    }
   ],
   "source": [
    "get_mets(pathway_pred)"
   ]
  },
  {
   "cell_type": "code",
   "execution_count": 222,
   "metadata": {
    "ExecuteTime": {
     "end_time": "2020-10-09T13:17:58.562090Z",
     "start_time": "2020-10-09T13:17:58.557068Z"
    }
   },
   "outputs": [],
   "source": [
    "def get_mets(pathway):\n",
    "    \n",
    "    rm = cobra.Reaction(\"merged\")\n",
    "    for r in pathway.reactions:\n",
    "        if \"synthesis\" in r.id:\n",
    "            rm = r\n",
    "            break\n",
    "        if not \"to_X\" in r.id:\n",
    "            rm += r\n",
    "    \n",
    "    met_dict = {m.id: value for m, value in rm.metabolites.items()}\n",
    "    return met_dict, rm"
   ]
  },
  {
   "cell_type": "code",
   "execution_count": 223,
   "metadata": {
    "ExecuteTime": {
     "end_time": "2020-10-09T13:18:21.938692Z",
     "start_time": "2020-10-09T13:18:20.716697Z"
    }
   },
   "outputs": [
    {
     "name": "stdout",
     "output_type": "stream",
     "text": [
      "Anabaenopeptin\n",
      "Anabaenopeptin_synthesis: ala__L_c + amet_c + 6 atp_c + lys__L_c + phe__L_c + 2 tyr__L_c + val__L_c --> ahcys_c + 6 amp_c + final_product_c + 5 h2o_c + 6 ppi_c\n",
      "merged: 4 X_c + ala__L_c + amet_c + 8 atp_c + phe__L_c + tyr__L_c + val__L_c --> ahcys_c + 8 amp_c + 4 h2o_c + 8 ppi_c\n",
      "Bafilomycin\n",
      "mxcoa_synthesis: 13dpg_c + amet_c + coa_c + fad_c + nadp_c --> ahcys_c + fadh2_c + h_c + mxcoa_c + nadph_c + 2 pi_c\n",
      "merged: 13dpg_c + amet_c + atp_c + fad_c + gly_c + 10.0 h_c + 2 malcoa_c + 8 mmcoa__R_c + mxmal_c + 10.0 nadph_c + succoa_c --> ahcys_c + amp_c + 13.0 co2_c + 12.0 coa_c + fadh2_c + 6.0 h2o_c + 10.0 nadp_c + 2.0 pi_c + ppi_c\n",
      "Difficidin\n",
      "Difficidin_synthesis: 13dpg_c + 3 amet_c + 14 h_c + 12 malcoa_c + 14 nadph_c --> 3 ahcys_c + 12 co2_c + 12 coa_c + final_product_c + 7 h2o_c + 14 nadp_c + 2 pi_c\n",
      "merged: 3.0 amet_c + 10.0 h_c + 12 malcoa_c + 10.0 nadph_c --> 3.0 ahcys_c + 12 co2_c + 12 coa_c + 7.0 h2o_c + 10.0 nadp_c\n",
      "Geldanamycin\n",
      "Geldanamycin_synthesis: 13dpg_c + 3 amet_c + 14 h_c + 12 malcoa_c + 14 nadph_c --> 3 ahcys_c + 12 co2_c + 12 coa_c + final_product_c + 7 h2o_c + 14 nadp_c + 2 pi_c\n",
      "merged: 13dpg_c + amet_c + e4p_c + fad_c + 9.0 h_c + malcoa_c + 4 mmcoa__R_c + mxmal_c + 9.0 nadph_c + pep_c --> ahcys_c + 7 co2_c + 6 coa_c + fadh2_c + 7.0 h2o_c + 9.0 nadp_c + 3.0 pi_c\n",
      "Leupyrrin\n",
      "merged: 4mop_c + accoa_res_c + 2 amet_c + 5 h_c + ivcoa_c + 4 malcoa_c + 5 nadph_c + 2 pro__L_c + thr__L_c --> 2 ahcys_c + 4 co2_c + 5 coa_c + 4 h2o_c + 5 nadp_c\n",
      "merged: 2.0 amet_c + 2 atp_c + cys__L_c + 2.0 h_c + 5 malcoa_c + 2.0 nadph_c + pro__L_c --> 2.0 ahcys_c + 2 amp_c + 5 co2_c + 5 coa_c + 6.0 h2o_c + 2.0 nadp_c + 2 ppi_c\n",
      "Oocydin\n",
      "Oocydin_synthesis: 13dpg_c + 2 amet_c + 7 h_c + 9 malcoa_c + 7 nadph_c --> 2 ahcys_c + 9 co2_c + 9 coa_c + final_product_c + 5 h2o_c + 7 nadp_c + 2 pi_c\n",
      "merged: 13dpg_c + amet_c + 6.0 h_c + 17 malcoa_c + 6.0 nadph_c --> ahcys_c + 17 co2_c + 17 coa_c + 2.0 h2o_c + 6.0 nadp_c + 2.0 pi_c\n",
      "Oxazolomycin\n",
      "Oxazolo_synthesis: 10fthf_c + 13dpg_c + 6 amet_c + 3 atp_c + fad_c + 2 gly_c + 8 h_c + 9 malcoa_c + 8 nadph_c + ser__L_c + thf_c --> 6 ahcys_c + 3 amp_c + 10 co2_c + 9 coa_c + fadh2_c + final_product_c + 8 h2o_c + 8 nadp_c + 2 pi_c + 3 ppi_c\n",
      "merged: 2.0 13dpg_c + 5.0 amet_c + 3 atp_c + fad_c + 2 gly_c + 8.0 h_c + 10 malcoa_c + 8.0 nadph_c + ser__L_c --> 5.0 ahcys_c + 3 amp_c + 10 co2_c + 9 coa_c + fadh2_c + 11.0 h2o_c + mxmal_c + 8.0 nadp_c + 4.0 pi_c + 3 ppi_c\n",
      "Tolaasin\n",
      "Tolaasin_synthesis: 24dab_c + 18 atp_c + gln__L_c + 4 leu__L_c + lys__L_c + pro__L_c + 3 ser__L_c + 3 thr__L_c + 4 val__L_c --> 18 amp_c + final_product_c + 18 ppi_c\n",
      "merged: 24dab_c + 2 X_c + 18 atp_c + gln__L_c + 4 leu__L_c + malcoa_c + pro__L_c + 2 ser__L_c + 3 thr__L_c + 4 val__L_c --> 18 amp_c + co2_c + coa_c + 16 h2o_c + 18 ppi_c\n"
     ]
    }
   ],
   "source": [
    "folders = [\"../Data/validation_pathways/\", \"../Data/constructed_pathways/\"]\n",
    "wt_growth = model.slim_optimize()\n",
    "model.reactions.BIOMASS_SCO_tRNA.lower_bound = 0.9 * wt_growth\n",
    "production_dict = {}\n",
    "mets_dict = {}\n",
    "for name, bgc_int in pathway_mibig_dict.items():\n",
    "    print(name)\n",
    "    production_list = []\n",
    "    mets_list = []\n",
    "    for i, model_fn in enumerate([name, bgc_int]):\n",
    "        pathway_fn = folders[i] +  \"{0}.json\".format(model_fn)\n",
    "        pathway = cobra.io.load_json_model(pathway_fn)\n",
    "        pathway_mets, rm = get_mets(pathway)\n",
    "        print(rm)\n",
    "        with model:\n",
    "            model.merge(pathway)\n",
    "            model.objective = model.reactions.DM_secondary_metabolite\n",
    "            production = model.slim_optimize()\n",
    "        production_list.append(production)\n",
    "        mets_list.append(pathway_mets)\n",
    "    production_dict[name] = production_list\n",
    "    mets_dict[name] = mets_list\n",
    "    "
   ]
  },
  {
   "cell_type": "code",
   "execution_count": 221,
   "metadata": {
    "ExecuteTime": {
     "end_time": "2020-10-09T13:16:30.468439Z",
     "start_time": "2020-10-09T13:16:30.405435Z"
    }
   },
   "outputs": [
    {
     "name": "stdout",
     "output_type": "stream",
     "text": [
      "Anabaenopeptin\n",
      "                 Real  Constructed from BGC  Correct\n",
      "24dab_c          -1.0                  -1.0     True\n",
      "amp_c            18.0                  18.0     True\n",
      "atp_c           -18.0                 -18.0     True\n",
      "final_product_c   1.0                   NaN    False\n",
      "gln__L_c         -1.0                  -1.0     True\n",
      "leu__L_c         -4.0                  -4.0     True\n",
      "lys__L_c         -1.0                   NaN    False\n",
      "ppi_c            18.0                  18.0     True\n",
      "pro__L_c         -1.0                  -1.0     True\n",
      "ser__L_c         -3.0                  -2.0    False\n",
      "thr__L_c         -3.0                  -3.0     True\n",
      "val__L_c         -4.0                  -4.0     True\n",
      "co2_c             NaN                   1.0    False\n",
      "coa_c             NaN                   1.0    False\n",
      "malcoa_c          NaN                  -1.0    False\n",
      "h2o_c             NaN                  16.0    False\n",
      "X_c               NaN                  -2.0    False\n",
      "Bafilomycin\n",
      "                 Real  Constructed from BGC  Correct\n",
      "24dab_c          -1.0                  -1.0     True\n",
      "amp_c            18.0                  18.0     True\n",
      "atp_c           -18.0                 -18.0     True\n",
      "final_product_c   1.0                   NaN    False\n",
      "gln__L_c         -1.0                  -1.0     True\n",
      "leu__L_c         -4.0                  -4.0     True\n",
      "lys__L_c         -1.0                   NaN    False\n",
      "ppi_c            18.0                  18.0     True\n",
      "pro__L_c         -1.0                  -1.0     True\n",
      "ser__L_c         -3.0                  -2.0    False\n",
      "thr__L_c         -3.0                  -3.0     True\n",
      "val__L_c         -4.0                  -4.0     True\n",
      "co2_c             NaN                   1.0    False\n",
      "coa_c             NaN                   1.0    False\n",
      "malcoa_c          NaN                  -1.0    False\n",
      "h2o_c             NaN                  16.0    False\n",
      "X_c               NaN                  -2.0    False\n",
      "Difficidin\n",
      "                 Real  Constructed from BGC  Correct\n",
      "24dab_c          -1.0                  -1.0     True\n",
      "amp_c            18.0                  18.0     True\n",
      "atp_c           -18.0                 -18.0     True\n",
      "final_product_c   1.0                   NaN    False\n",
      "gln__L_c         -1.0                  -1.0     True\n",
      "leu__L_c         -4.0                  -4.0     True\n",
      "lys__L_c         -1.0                   NaN    False\n",
      "ppi_c            18.0                  18.0     True\n",
      "pro__L_c         -1.0                  -1.0     True\n",
      "ser__L_c         -3.0                  -2.0    False\n",
      "thr__L_c         -3.0                  -3.0     True\n",
      "val__L_c         -4.0                  -4.0     True\n",
      "co2_c             NaN                   1.0    False\n",
      "coa_c             NaN                   1.0    False\n",
      "malcoa_c          NaN                  -1.0    False\n",
      "h2o_c             NaN                  16.0    False\n",
      "X_c               NaN                  -2.0    False\n",
      "Geldanamycin\n",
      "                 Real  Constructed from BGC  Correct\n",
      "24dab_c          -1.0                  -1.0     True\n",
      "amp_c            18.0                  18.0     True\n",
      "atp_c           -18.0                 -18.0     True\n",
      "final_product_c   1.0                   NaN    False\n",
      "gln__L_c         -1.0                  -1.0     True\n",
      "leu__L_c         -4.0                  -4.0     True\n",
      "lys__L_c         -1.0                   NaN    False\n",
      "ppi_c            18.0                  18.0     True\n",
      "pro__L_c         -1.0                  -1.0     True\n",
      "ser__L_c         -3.0                  -2.0    False\n",
      "thr__L_c         -3.0                  -3.0     True\n",
      "val__L_c         -4.0                  -4.0     True\n",
      "co2_c             NaN                   1.0    False\n",
      "coa_c             NaN                   1.0    False\n",
      "malcoa_c          NaN                  -1.0    False\n",
      "h2o_c             NaN                  16.0    False\n",
      "X_c               NaN                  -2.0    False\n",
      "Leupyrrin\n",
      "                 Real  Constructed from BGC  Correct\n",
      "24dab_c          -1.0                  -1.0     True\n",
      "amp_c            18.0                  18.0     True\n",
      "atp_c           -18.0                 -18.0     True\n",
      "final_product_c   1.0                   NaN    False\n",
      "gln__L_c         -1.0                  -1.0     True\n",
      "leu__L_c         -4.0                  -4.0     True\n",
      "lys__L_c         -1.0                   NaN    False\n",
      "ppi_c            18.0                  18.0     True\n",
      "pro__L_c         -1.0                  -1.0     True\n",
      "ser__L_c         -3.0                  -2.0    False\n",
      "thr__L_c         -3.0                  -3.0     True\n",
      "val__L_c         -4.0                  -4.0     True\n",
      "co2_c             NaN                   1.0    False\n",
      "coa_c             NaN                   1.0    False\n",
      "malcoa_c          NaN                  -1.0    False\n",
      "h2o_c             NaN                  16.0    False\n",
      "X_c               NaN                  -2.0    False\n",
      "Oocydin\n",
      "                 Real  Constructed from BGC  Correct\n",
      "24dab_c          -1.0                  -1.0     True\n",
      "amp_c            18.0                  18.0     True\n",
      "atp_c           -18.0                 -18.0     True\n",
      "final_product_c   1.0                   NaN    False\n",
      "gln__L_c         -1.0                  -1.0     True\n",
      "leu__L_c         -4.0                  -4.0     True\n",
      "lys__L_c         -1.0                   NaN    False\n",
      "ppi_c            18.0                  18.0     True\n",
      "pro__L_c         -1.0                  -1.0     True\n",
      "ser__L_c         -3.0                  -2.0    False\n",
      "thr__L_c         -3.0                  -3.0     True\n",
      "val__L_c         -4.0                  -4.0     True\n",
      "co2_c             NaN                   1.0    False\n",
      "coa_c             NaN                   1.0    False\n",
      "malcoa_c          NaN                  -1.0    False\n",
      "h2o_c             NaN                  16.0    False\n",
      "X_c               NaN                  -2.0    False\n",
      "Oxazolomycin\n",
      "                 Real  Constructed from BGC  Correct\n",
      "24dab_c          -1.0                  -1.0     True\n",
      "amp_c            18.0                  18.0     True\n",
      "atp_c           -18.0                 -18.0     True\n",
      "final_product_c   1.0                   NaN    False\n",
      "gln__L_c         -1.0                  -1.0     True\n",
      "leu__L_c         -4.0                  -4.0     True\n",
      "lys__L_c         -1.0                   NaN    False\n",
      "ppi_c            18.0                  18.0     True\n",
      "pro__L_c         -1.0                  -1.0     True\n",
      "ser__L_c         -3.0                  -2.0    False\n",
      "thr__L_c         -3.0                  -3.0     True\n",
      "val__L_c         -4.0                  -4.0     True\n",
      "co2_c             NaN                   1.0    False\n",
      "coa_c             NaN                   1.0    False\n",
      "malcoa_c          NaN                  -1.0    False\n",
      "h2o_c             NaN                  16.0    False\n",
      "X_c               NaN                  -2.0    False\n",
      "Tolaasin\n",
      "                 Real  Constructed from BGC  Correct\n",
      "24dab_c          -1.0                  -1.0     True\n",
      "amp_c            18.0                  18.0     True\n",
      "atp_c           -18.0                 -18.0     True\n",
      "final_product_c   1.0                   NaN    False\n",
      "gln__L_c         -1.0                  -1.0     True\n",
      "leu__L_c         -4.0                  -4.0     True\n",
      "lys__L_c         -1.0                   NaN    False\n",
      "ppi_c            18.0                  18.0     True\n",
      "pro__L_c         -1.0                  -1.0     True\n",
      "ser__L_c         -3.0                  -2.0    False\n",
      "thr__L_c         -3.0                  -3.0     True\n",
      "val__L_c         -4.0                  -4.0     True\n",
      "co2_c             NaN                   1.0    False\n",
      "coa_c             NaN                   1.0    False\n",
      "malcoa_c          NaN                  -1.0    False\n",
      "h2o_c             NaN                  16.0    False\n",
      "X_c               NaN                  -2.0    False\n"
     ]
    }
   ],
   "source": [
    "for name, lst in mets_dict.items():\n",
    "    df = pd.DataFrame(mets_list).T\n",
    "    df.columns = [\"Real\", \"Constructed from BGC\"]\n",
    "    df[\"Correct\"] = df[\"Real\"]==df[\"Constructed from BGC\"]\n",
    "    print(name)\n",
    "    print(df)"
   ]
  },
  {
   "cell_type": "code",
   "execution_count": null,
   "metadata": {},
   "outputs": [],
   "source": []
  },
  {
   "cell_type": "code",
   "execution_count": 203,
   "metadata": {
    "ExecuteTime": {
     "end_time": "2020-10-09T13:06:58.954205Z",
     "start_time": "2020-10-09T13:06:58.925204Z"
    }
   },
   "outputs": [
    {
     "data": {
      "text/html": [
       "<div>\n",
       "<style scoped>\n",
       "    .dataframe tbody tr th:only-of-type {\n",
       "        vertical-align: middle;\n",
       "    }\n",
       "\n",
       "    .dataframe tbody tr th {\n",
       "        vertical-align: top;\n",
       "    }\n",
       "\n",
       "    .dataframe thead th {\n",
       "        text-align: right;\n",
       "    }\n",
       "</style>\n",
       "<table border=\"1\" class=\"dataframe\">\n",
       "  <thead>\n",
       "    <tr style=\"text-align: right;\">\n",
       "      <th></th>\n",
       "      <th>Anabaenopeptin</th>\n",
       "      <th>Bafilomycin</th>\n",
       "      <th>Difficidin</th>\n",
       "      <th>Geldanamycin</th>\n",
       "      <th>Leupyrrin</th>\n",
       "      <th>Oocydin</th>\n",
       "      <th>Oxazolomycin</th>\n",
       "      <th>Tolaasin</th>\n",
       "    </tr>\n",
       "  </thead>\n",
       "  <tbody>\n",
       "    <tr>\n",
       "      <th>0</th>\n",
       "      <td>{'ahcys_c': 1, 'ala__L_c': -1, 'amet_c': -1, '...</td>\n",
       "      <td>{'co2_c': 13, 'coa_c': 12, 'h2o_c': 4, 'h_c': ...</td>\n",
       "      <td>{'13dpg_c': -1, 'ahcys_c': 3, 'amet_c': -3, 'c...</td>\n",
       "      <td>{'13dpg_c': -1, 'ahcys_c': 3, 'amet_c': -3, 'c...</td>\n",
       "      <td>{'ivcoa_c': -1, 'malcoa_c': -4, 'h2o_c': 4, 'h...</td>\n",
       "      <td>{'13dpg_c': -1, 'ahcys_c': 2, 'amet_c': -2, 'c...</td>\n",
       "      <td>{'10fthf_c': -1, '13dpg_c': -1, 'ahcys_c': 6, ...</td>\n",
       "      <td>{'24dab_c': -1, 'amp_c': 18, 'atp_c': -18, 'gl...</td>\n",
       "    </tr>\n",
       "    <tr>\n",
       "      <th>1</th>\n",
       "      <td>{'X_c': -4, 'amp_c': 8, 'atp_c': -8, 'ppi_c': ...</td>\n",
       "      <td>{'13dpg_c': -1.0, 'ahcys_c': 1.0, 'amet_c': -1...</td>\n",
       "      <td>{'co2_c': 12, 'coa_c': 12, 'malcoa_c': -12, 'h...</td>\n",
       "      <td>{'13dpg_c': -1.0, 'ahcys_c': 1.0, 'amet_c': -1...</td>\n",
       "      <td>{'co2_c': 5, 'coa_c': 5, 'malcoa_c': -5, 'amp_...</td>\n",
       "      <td>{'co2_c': 17, 'coa_c': 17, 'malcoa_c': -17, '1...</td>\n",
       "      <td>{'13dpg_c': -2.0, 'ahcys_c': 5.0, 'amet_c': -5...</td>\n",
       "      <td>{'co2_c': 1, 'coa_c': 1, 'malcoa_c': -1, 'amp_...</td>\n",
       "    </tr>\n",
       "  </tbody>\n",
       "</table>\n",
       "</div>"
      ],
      "text/plain": [
       "                                      Anabaenopeptin  \\\n",
       "0  {'ahcys_c': 1, 'ala__L_c': -1, 'amet_c': -1, '...   \n",
       "1  {'X_c': -4, 'amp_c': 8, 'atp_c': -8, 'ppi_c': ...   \n",
       "\n",
       "                                         Bafilomycin  \\\n",
       "0  {'co2_c': 13, 'coa_c': 12, 'h2o_c': 4, 'h_c': ...   \n",
       "1  {'13dpg_c': -1.0, 'ahcys_c': 1.0, 'amet_c': -1...   \n",
       "\n",
       "                                          Difficidin  \\\n",
       "0  {'13dpg_c': -1, 'ahcys_c': 3, 'amet_c': -3, 'c...   \n",
       "1  {'co2_c': 12, 'coa_c': 12, 'malcoa_c': -12, 'h...   \n",
       "\n",
       "                                        Geldanamycin  \\\n",
       "0  {'13dpg_c': -1, 'ahcys_c': 3, 'amet_c': -3, 'c...   \n",
       "1  {'13dpg_c': -1.0, 'ahcys_c': 1.0, 'amet_c': -1...   \n",
       "\n",
       "                                           Leupyrrin  \\\n",
       "0  {'ivcoa_c': -1, 'malcoa_c': -4, 'h2o_c': 4, 'h...   \n",
       "1  {'co2_c': 5, 'coa_c': 5, 'malcoa_c': -5, 'amp_...   \n",
       "\n",
       "                                             Oocydin  \\\n",
       "0  {'13dpg_c': -1, 'ahcys_c': 2, 'amet_c': -2, 'c...   \n",
       "1  {'co2_c': 17, 'coa_c': 17, 'malcoa_c': -17, '1...   \n",
       "\n",
       "                                        Oxazolomycin  \\\n",
       "0  {'10fthf_c': -1, '13dpg_c': -1, 'ahcys_c': 6, ...   \n",
       "1  {'13dpg_c': -2.0, 'ahcys_c': 5.0, 'amet_c': -5...   \n",
       "\n",
       "                                            Tolaasin  \n",
       "0  {'24dab_c': -1, 'amp_c': 18, 'atp_c': -18, 'gl...  \n",
       "1  {'co2_c': 1, 'coa_c': 1, 'malcoa_c': -1, 'amp_...  "
      ]
     },
     "execution_count": 203,
     "metadata": {},
     "output_type": "execute_result"
    }
   ],
   "source": [
    "df"
   ]
  },
  {
   "cell_type": "code",
   "execution_count": 151,
   "metadata": {
    "ExecuteTime": {
     "end_time": "2020-10-09T12:35:22.834006Z",
     "start_time": "2020-10-09T12:35:22.829007Z"
    }
   },
   "outputs": [],
   "source": [
    "df = pd.DataFrame(production_dict)"
   ]
  },
  {
   "cell_type": "code",
   "execution_count": 152,
   "metadata": {
    "ExecuteTime": {
     "end_time": "2020-10-09T12:35:23.304311Z",
     "start_time": "2020-10-09T12:35:23.301337Z"
    }
   },
   "outputs": [],
   "source": [
    "df.index = [\"Real\", \"Constructed from BGC\"]"
   ]
  },
  {
   "cell_type": "code",
   "execution_count": 153,
   "metadata": {
    "ExecuteTime": {
     "end_time": "2020-10-09T12:35:24.174585Z",
     "start_time": "2020-10-09T12:35:23.925608Z"
    }
   },
   "outputs": [
    {
     "data": {
      "text/plain": [
       "<matplotlib.axes._subplots.AxesSubplot at 0x21bf843d668>"
      ]
     },
     "execution_count": 153,
     "metadata": {},
     "output_type": "execute_result"
    },
    {
     "data": {
      "image/png": "[encoded data removed]",
      "text/plain": [
       "<Figure size 432x288 with 1 Axes>"
      ]
     },
     "metadata": {
      "needs_background": "light"
     },
     "output_type": "display_data"
    }
   ],
   "source": [
    "df.T.plot(kind = \"bar\")"
   ]
  },
  {
   "cell_type": "code",
   "execution_count": 193,
   "metadata": {
    "ExecuteTime": {
     "end_time": "2020-10-09T12:56:47.560159Z",
     "start_time": "2020-10-09T12:56:47.556651Z"
    }
   },
   "outputs": [],
   "source": [
    "pathway_real_fn = \"../Data/validation_pathways/Leupyrrin.json\"\n",
    "pathway_real_fn = \"../Data/constructed_pathways/380.json\"\n",
    "#pathway_pred_fn = \"C:/Users/snorres/Downloads/gbk_db_output_models/380.json\""
   ]
  },
  {
   "cell_type": "code",
   "execution_count": 194,
   "metadata": {
    "ExecuteTime": {
     "end_time": "2020-10-09T12:56:51.658098Z",
     "start_time": "2020-10-09T12:56:51.589785Z"
    }
   },
   "outputs": [],
   "source": [
    "pathway_pred = cobra.io.load_json_model(pathway_pred_fn)\n",
    "pathway_real = cobra.io.load_json_model(pathway_real_fn)"
   ]
  },
  {
   "cell_type": "code",
   "execution_count": 195,
   "metadata": {
    "ExecuteTime": {
     "end_time": "2020-10-09T12:57:00.813248Z",
     "start_time": "2020-10-09T12:56:52.280308Z"
    }
   },
   "outputs": [
    {
     "name": "stdout",
     "output_type": "stream",
     "text": [
      "Read LP format model from file C:\\Users\\snorres\\AppData\\Local\\Temp\\tmpvsbbanzf.lp\n",
      "Reading time = 0.03 seconds\n",
      ": 2073 rows, 5224 columns, 22724 nonzeros\n",
      "Read LP format model from file C:\\Users\\snorres\\AppData\\Local\\Temp\\tmp4785jpyt.lp\n",
      "Reading time = 0.03 seconds\n",
      ": 2073 rows, 5224 columns, 22724 nonzeros\n"
     ]
    }
   ],
   "source": [
    "with model:\n",
    "    model_pred = model.copy()\n",
    "    model_pred.merge(pathway_pred)\n",
    "with model:\n",
    "    model_real = model.copy()\n",
    "    model_real.merge(pathway_real)"
   ]
  },
  {
   "cell_type": "code",
   "execution_count": 196,
   "metadata": {
    "ExecuteTime": {
     "end_time": "2020-10-09T12:57:00.820935Z",
     "start_time": "2020-10-09T12:57:00.814931Z"
    }
   },
   "outputs": [],
   "source": [
    "rm = cobra.Reaction(\"merged\")\n",
    "for r in pathway_pred.reactions:\n",
    "    if not \"to_X\" in r.id:\n",
    "        rm += r"
   ]
  },
  {
   "cell_type": "code",
   "execution_count": 197,
   "metadata": {
    "ExecuteTime": {
     "end_time": "2020-10-09T12:57:00.841973Z",
     "start_time": "2020-10-09T12:57:00.823937Z"
    }
   },
   "outputs": [
    {
     "name": "stdout",
     "output_type": "stream",
     "text": [
      "NRPS_0 + malcoa_c --> NRPS_1 + co2_c + coa_c\n",
      "NRPS_1 + atp_c + cys__L_c --> NRPS_2 + amp_c + ppi_c\n",
      "NRPS_2 + malcoa_c --> NRPS_3 + co2_c + coa_c\n",
      "NRPS_3 --> NRPS_4 + h2o_c\n",
      "NRPS_4 + h_c + nadph_c --> NRPS_5 + nadp_c\n",
      "NRPS_5 + malcoa_c --> NRPS_6 + co2_c + coa_c\n",
      "NRPS_6 --> NRPS_7 + h2o_c\n",
      "NRPS_7 + amet_c --> NRPS_8 + ahcys_c\n",
      "NRPS_8 + malcoa_c --> NRPS_9 + co2_c + coa_c\n",
      "NRPS_9 --> NRPS_10 + h2o_c\n",
      "NRPS_10 + h_c + nadph_c --> NRPS_11 + nadp_c\n",
      "NRPS_11 + malcoa_c --> NRPS_12 + co2_c + coa_c\n",
      "NRPS_12 --> NRPS_13 + h2o_c\n",
      "NRPS_13 + amet_c --> NRPS_14 + ahcys_c\n",
      "NRPS_14 + atp_c + pro__L_c --> NRPS_15 + amp_c + ppi_c\n",
      "NRPS_15 --> \n",
      " --> NRPS_0\n"
     ]
    }
   ],
   "source": [
    "for r in pathway_pred.reactions:\n",
    "    print(r.reaction)"
   ]
  },
  {
   "cell_type": "code",
   "execution_count": 198,
   "metadata": {
    "ExecuteTime": {
     "end_time": "2020-10-09T12:57:00.854953Z",
     "start_time": "2020-10-09T12:57:00.843932Z"
    }
   },
   "outputs": [
    {
     "name": "stdout",
     "output_type": "stream",
     "text": [
      "NRPS_0 + malcoa_c --> NRPS_1 + co2_c + coa_c\n",
      "NRPS_1 + atp_c + cys__L_c --> NRPS_2 + amp_c + h2o_c + ppi_c\n",
      "NRPS_2 + malcoa_c --> NRPS_3 + co2_c + coa_c\n",
      "NRPS_3 --> NRPS_4 + h2o_c\n",
      "NRPS_4 + h_c + nadph_c --> NRPS_5 + nadp_c\n",
      "NRPS_5 + malcoa_c --> NRPS_6 + co2_c + coa_c\n",
      "NRPS_6 --> NRPS_7 + h2o_c\n",
      "NRPS_7 + amet_c --> NRPS_8 + ahcys_c\n",
      "NRPS_8 + malcoa_c --> NRPS_9 + co2_c + coa_c\n",
      "NRPS_9 --> NRPS_10 + h2o_c\n",
      "NRPS_10 + h_c + nadph_c --> NRPS_11 + nadp_c\n",
      "NRPS_11 + malcoa_c --> NRPS_12 + co2_c + coa_c\n",
      "NRPS_12 --> NRPS_13 + h2o_c\n",
      "NRPS_13 + amet_c --> NRPS_14 + ahcys_c\n",
      "NRPS_14 + atp_c + pro__L_c --> NRPS_15 + amp_c + h2o_c + ppi_c\n",
      "NRPS_15 --> \n",
      " --> NRPS_0\n"
     ]
    }
   ],
   "source": [
    "for r in pathway_real.reactions:\n",
    "    print(r.reaction)"
   ]
  },
  {
   "cell_type": "code",
   "execution_count": 160,
   "metadata": {
    "ExecuteTime": {
     "end_time": "2020-10-09T12:35:42.099704Z",
     "start_time": "2020-10-09T12:35:41.520028Z"
    }
   },
   "outputs": [
    {
     "name": "stdout",
     "output_type": "stream",
     "text": [
      "<Solution 0.074 at 0x21bf353a160>\n",
      "<Solution 0.074 at 0x21bf353a0b8>\n"
     ]
    }
   ],
   "source": [
    "print(model_pred.optimize())\n",
    "print(model_real.optimize())"
   ]
  },
  {
   "cell_type": "code",
   "execution_count": 117,
   "metadata": {
    "ExecuteTime": {
     "end_time": "2020-10-09T12:13:06.519510Z",
     "start_time": "2020-10-09T12:13:06.473519Z"
    }
   },
   "outputs": [
    {
     "name": "stdout",
     "output_type": "stream",
     "text": [
      "0.014235318657095476\n",
      "0.014235318657097358\n"
     ]
    }
   ],
   "source": [
    "for m in [model_pred, model_real]:\n",
    "    with m as model:\n",
    "        model.reactions.BIOMASS_SCO_tRNA.lower_bound = 0.07\n",
    "        model.objective = model.reactions.DM_secondary_metabolite\n",
    "        print(model.slim_optimize())\n",
    "        \n",
    "    "
   ]
  },
  {
   "cell_type": "code",
   "execution_count": 82,
   "metadata": {
    "ExecuteTime": {
     "end_time": "2020-10-09T11:46:58.529367Z",
     "start_time": "2020-10-09T11:46:58.313368Z"
    }
   },
   "outputs": [
    {
     "data": {
      "text/html": [
       "<div>\n",
       "<style scoped>\n",
       "    .dataframe tbody tr th:only-of-type {\n",
       "        vertical-align: middle;\n",
       "    }\n",
       "\n",
       "    .dataframe tbody tr th {\n",
       "        vertical-align: top;\n",
       "    }\n",
       "\n",
       "    .dataframe thead tr th {\n",
       "        text-align: left;\n",
       "    }\n",
       "</style>\n",
       "<table border=\"1\" class=\"dataframe\">\n",
       "  <thead>\n",
       "    <tr>\n",
       "      <th></th>\n",
       "      <th colspan=\"2\" halign=\"left\">IN_FLUXES</th>\n",
       "      <th colspan=\"2\" halign=\"left\">OUT_FLUXES</th>\n",
       "      <th colspan=\"2\" halign=\"left\">OBJECTIVES</th>\n",
       "    </tr>\n",
       "    <tr>\n",
       "      <th></th>\n",
       "      <th>ID</th>\n",
       "      <th>FLUX</th>\n",
       "      <th>ID</th>\n",
       "      <th>FLUX</th>\n",
       "      <th>ID</th>\n",
       "      <th>FLUX</th>\n",
       "    </tr>\n",
       "  </thead>\n",
       "  <tbody>\n",
       "    <tr>\n",
       "      <th>0</th>\n",
       "      <td>o2_e</td>\n",
       "      <td>1.744809</td>\n",
       "      <td>h2o_e</td>\n",
       "      <td>3.879265</td>\n",
       "      <td>BIOMASS_SCO_tRNA</td>\n",
       "      <td>0.074195</td>\n",
       "    </tr>\n",
       "    <tr>\n",
       "      <th>1</th>\n",
       "      <td>glc__D_e</td>\n",
       "      <td>0.800000</td>\n",
       "      <td>co2_e</td>\n",
       "      <td>1.842284</td>\n",
       "      <td>NaN</td>\n",
       "      <td>NaN</td>\n",
       "    </tr>\n",
       "    <tr>\n",
       "      <th>2</th>\n",
       "      <td>nh4_e</td>\n",
       "      <td>0.648124</td>\n",
       "      <td>h_e</td>\n",
       "      <td>0.300066</td>\n",
       "      <td>NaN</td>\n",
       "      <td>NaN</td>\n",
       "    </tr>\n",
       "    <tr>\n",
       "      <th>3</th>\n",
       "      <td>pi_e</td>\n",
       "      <td>0.072968</td>\n",
       "      <td>NaN</td>\n",
       "      <td>NaN</td>\n",
       "      <td>NaN</td>\n",
       "      <td>NaN</td>\n",
       "    </tr>\n",
       "  </tbody>\n",
       "</table>\n",
       "</div>"
      ],
      "text/plain": [
       "<cobra.core.summary.model_summary.ModelSummary at 0x21bf1928048>"
      ]
     },
     "execution_count": 82,
     "metadata": {},
     "output_type": "execute_result"
    }
   ],
   "source": [
    "model_pred.summary()"
   ]
  },
  {
   "cell_type": "code",
   "execution_count": 70,
   "metadata": {
    "ExecuteTime": {
     "end_time": "2020-10-09T11:41:27.423528Z",
     "start_time": "2020-10-09T11:41:27.156533Z"
    }
   },
   "outputs": [
    {
     "data": {
      "text/html": [
       "<strong><em>Optimal</em> solution with objective value 0.074</strong><br><div>\n",
       "<style scoped>\n",
       "    .dataframe tbody tr th:only-of-type {\n",
       "        vertical-align: middle;\n",
       "    }\n",
       "\n",
       "    .dataframe tbody tr th {\n",
       "        vertical-align: top;\n",
       "    }\n",
       "\n",
       "    .dataframe thead th {\n",
       "        text-align: right;\n",
       "    }\n",
       "</style>\n",
       "<table border=\"1\" class=\"dataframe\">\n",
       "  <thead>\n",
       "    <tr style=\"text-align: right;\">\n",
       "      <th></th>\n",
       "      <th>fluxes</th>\n",
       "      <th>reduced_costs</th>\n",
       "    </tr>\n",
       "  </thead>\n",
       "  <tbody>\n",
       "    <tr>\n",
       "      <th>BIOMASS_SCO</th>\n",
       "      <td>0.000000</td>\n",
       "      <td>-1.364982e+00</td>\n",
       "    </tr>\n",
       "    <tr>\n",
       "      <th>BIOMASS_SCO_tRNA</th>\n",
       "      <td>0.074195</td>\n",
       "      <td>8.187895e-16</td>\n",
       "    </tr>\n",
       "    <tr>\n",
       "      <th>CARBOHYDRATE_PSEUDO</th>\n",
       "      <td>0.074195</td>\n",
       "      <td>3.469447e-18</td>\n",
       "    </tr>\n",
       "    <tr>\n",
       "      <th>CELL_WALL_PSEUDO</th>\n",
       "      <td>0.074195</td>\n",
       "      <td>0.000000e+00</td>\n",
       "    </tr>\n",
       "    <tr>\n",
       "      <th>DNA_PSEUDO</th>\n",
       "      <td>0.074195</td>\n",
       "      <td>-8.131516e-20</td>\n",
       "    </tr>\n",
       "    <tr>\n",
       "      <th>...</th>\n",
       "      <td>...</td>\n",
       "      <td>...</td>\n",
       "    </tr>\n",
       "    <tr>\n",
       "      <th>NRPS_5</th>\n",
       "      <td>0.000000</td>\n",
       "      <td>2.775558e-17</td>\n",
       "    </tr>\n",
       "    <tr>\n",
       "      <th>NRPS_6</th>\n",
       "      <td>0.000000</td>\n",
       "      <td>0.000000e+00</td>\n",
       "    </tr>\n",
       "    <tr>\n",
       "      <th>NRPS_7</th>\n",
       "      <td>0.000000</td>\n",
       "      <td>0.000000e+00</td>\n",
       "    </tr>\n",
       "    <tr>\n",
       "      <th>DM_secondary_metabolite</th>\n",
       "      <td>0.000000</td>\n",
       "      <td>0.000000e+00</td>\n",
       "    </tr>\n",
       "    <tr>\n",
       "      <th>IN_NRPS</th>\n",
       "      <td>0.000000</td>\n",
       "      <td>0.000000e+00</td>\n",
       "    </tr>\n",
       "  </tbody>\n",
       "</table>\n",
       "<p>2641 rows × 2 columns</p>\n",
       "</div>"
      ],
      "text/plain": [
       "<Solution 0.074 at 0x21bf5fa0160>"
      ]
     },
     "execution_count": 70,
     "metadata": {},
     "output_type": "execute_result"
    }
   ],
   "source": [
    "model_pred.optimize()"
   ]
  },
  {
   "cell_type": "code",
   "execution_count": null,
   "metadata": {},
   "outputs": [],
   "source": []
  },
  {
   "cell_type": "code",
   "execution_count": 61,
   "metadata": {
    "ExecuteTime": {
     "end_time": "2020-10-09T11:37:46.723211Z",
     "start_time": "2020-10-09T11:37:46.719211Z"
    }
   },
   "outputs": [
    {
     "data": {
      "text/plain": [
       "'ala__L_c + amet_c + arg__L_c + asn__L_c + asp__L_c + 6 atp_c + cys__L_c + gln__L_c + glu__L_c + gly_c + his__L_c + 2 ile__L_c + leu__L_c + lys__L_c + met__L_c + phe__L_c + pro__L_c + ser__L_c + thr__L_c + trp__L_c + tyr__L_c + 2 val__L_c --> 16 X_c + ahcys_c + 6 amp_c + 6 ppi_c'"
      ]
     },
     "execution_count": 61,
     "metadata": {},
     "output_type": "execute_result"
    }
   ],
   "source": [
    "r_merged.reaction"
   ]
  },
  {
   "cell_type": "code",
   "execution_count": 44,
   "metadata": {
    "ExecuteTime": {
     "end_time": "2020-10-09T11:32:28.175098Z",
     "start_time": "2020-10-09T11:32:28.153096Z"
    }
   },
   "outputs": [
    {
     "data": {
      "text/html": [
       "\n",
       "        <table>\n",
       "            <tr>\n",
       "                <td><strong>Name</strong></td>\n",
       "                <td></td>\n",
       "            </tr><tr>\n",
       "                <td><strong>Memory address</strong></td>\n",
       "                <td>0x021beed964e0</td>\n",
       "            </tr><tr>\n",
       "                <td><strong>Number of metabolites</strong></td>\n",
       "                <td>2074</td>\n",
       "            </tr><tr>\n",
       "                <td><strong>Number of reactions</strong></td>\n",
       "                <td>2614</td>\n",
       "            </tr><tr>\n",
       "                <td><strong>Number of groups</strong></td>\n",
       "                <td>7</td>\n",
       "            </tr><tr>\n",
       "                <td><strong>Objective expression</strong></td>\n",
       "                <td>1.0*BIOMASS_SCO_tRNA - 1.0*BIOMASS_SCO_tRNA_reverse_d3620</td>\n",
       "            </tr><tr>\n",
       "                <td><strong>Compartments</strong></td>\n",
       "                <td>Cytoplasm, Extracellular</td>\n",
       "            </tr>\n",
       "          </table>"
      ],
      "text/plain": [
       "<Model  at 0x21beed964e0>"
      ]
     },
     "execution_count": 44,
     "metadata": {},
     "output_type": "execute_result"
    }
   ],
   "source": [
    "model.merge(pathway)"
   ]
  },
  {
   "cell_type": "code",
   "execution_count": 45,
   "metadata": {
    "ExecuteTime": {
     "end_time": "2020-10-09T11:32:32.085510Z",
     "start_time": "2020-10-09T11:32:32.080510Z"
    }
   },
   "outputs": [
    {
     "data": {
      "text/html": [
       "\n",
       "        <table>\n",
       "            <tr>\n",
       "                <td><strong>Reaction identifier</strong></td><td>DM_secondary_metabolite</td>\n",
       "            </tr><tr>\n",
       "                <td><strong>Name</strong></td><td></td>\n",
       "            </tr><tr>\n",
       "                <td><strong>Memory address</strong></td>\n",
       "                <td>0x021beed93b70</td>\n",
       "            </tr><tr>\n",
       "                <td><strong>Stoichiometry</strong></td>\n",
       "                <td>\n",
       "                    <p style='text-align:right'>final_product_c --> </p>\n",
       "                    <p style='text-align:right'>Final product --> </p>\n",
       "                </td>\n",
       "            </tr><tr>\n",
       "                <td><strong>GPR</strong></td><td></td>\n",
       "            </tr><tr>\n",
       "                <td><strong>Lower bound</strong></td><td>0.0</td>\n",
       "            </tr><tr>\n",
       "                <td><strong>Upper bound</strong></td><td>1000.0</td>\n",
       "            </tr>\n",
       "        </table>\n",
       "        "
      ],
      "text/plain": [
       "<Reaction DM_secondary_metabolite at 0x21beed93b70>"
      ]
     },
     "execution_count": 45,
     "metadata": {},
     "output_type": "execute_result"
    }
   ],
   "source": [
    "model.reactions.DM_secondary_metabolite"
   ]
  },
  {
   "cell_type": "code",
   "execution_count": 46,
   "metadata": {
    "ExecuteTime": {
     "end_time": "2020-10-09T11:32:41.509370Z",
     "start_time": "2020-10-09T11:32:41.504392Z"
    }
   },
   "outputs": [
    {
     "data": {
      "text/plain": [
       "(-1000.0, 1000.0)"
      ]
     },
     "execution_count": 46,
     "metadata": {},
     "output_type": "execute_result"
    }
   ],
   "source": [
    "model.reactions.PRPPS.bounds"
   ]
  },
  {
   "cell_type": "code",
   "execution_count": 50,
   "metadata": {
    "ExecuteTime": {
     "end_time": "2020-10-09T11:33:48.974195Z",
     "start_time": "2020-10-09T11:33:48.964190Z"
    }
   },
   "outputs": [
    {
     "name": "stdout",
     "output_type": "stream",
     "text": [
      "0.0636994884770386\n",
      "0.025855656892647294\n",
      "0.025855656892647294\n"
     ]
    }
   ],
   "source": [
    "with model:\n",
    "    model.reactions.PRPPS.knock_out()\n",
    "    model.objective = model.reactions.BIOMASS_SCO_tRNA\n",
    "    wt_growth = model.slim_optimize()\n",
    "    print(wt_growth)\n",
    "    print(model.reactions.Anabaenopeptin_synthesis.flux)\n",
    "    print(model.reactions.DM_secondary_metabolite.flux)"
   ]
  },
  {
   "cell_type": "code",
   "execution_count": 51,
   "metadata": {
    "ExecuteTime": {
     "end_time": "2020-10-09T11:34:05.786932Z",
     "start_time": "2020-10-09T11:34:05.772932Z"
    }
   },
   "outputs": [
    {
     "name": "stdout",
     "output_type": "stream",
     "text": [
      "GENES   METABOLITES     METABOLITES  METABOLITES\n",
      "  ID         ID        STOICHIOMETRY COMPARTMENT\n",
      "       final_product_c        1            c    \n",
      "               ahcys_c        1            c    \n",
      "              ala__L_c       -1            c    \n",
      "                amet_c        1            c    \n",
      "                 amp_c        6            c    \n",
      "                 atp_c       -6            c    \n",
      "                 h2o_c        5            c    \n",
      "              lys__L_c       -1            c    \n",
      "              phe__L_c       -1            c    \n",
      "                 ppi_c        6            c    \n",
      "              tyr__L_c       -2            c    \n",
      "              val__L_c       -1            c    \n"
     ]
    },
    {
     "name": "stderr",
     "output_type": "stream",
     "text": [
      "C:\\Users\\snorres\\AppData\\Local\\Continuum\\miniconda3\\lib\\site-packages\\cobra\\core\\summary\\summary.py:206: UserWarning:\n",
      "\n",
      "Setting float_format to anything other than None will cause nan to be present in the output.\n",
      "\n",
      "C:\\Users\\snorres\\AppData\\Local\\Continuum\\miniconda3\\lib\\site-packages\\cobra\\core\\summary\\reaction_summary.py:82: FutureWarning:\n",
      "\n",
      "The pandas.np module is deprecated and will be removed from pandas in a future version. Import numpy directly instead\n",
      "\n"
     ]
    }
   ],
   "source": [
    "print(model.reactions.Anabaenopeptin_synthesis.summary())"
   ]
  },
  {
   "cell_type": "code",
   "execution_count": 48,
   "metadata": {
    "ExecuteTime": {
     "end_time": "2020-10-09T11:33:01.454777Z",
     "start_time": "2020-10-09T11:33:01.449778Z"
    }
   },
   "outputs": [
    {
     "data": {
      "text/plain": [
       "[<Reaction Anabaenopeptin_synthesis at 0x21bef9d8da0>,\n",
       " <Reaction DM_secondary_metabolite at 0x21bef9d80b8>]"
      ]
     },
     "execution_count": 48,
     "metadata": {},
     "output_type": "execute_result"
    }
   ],
   "source": [
    "pathway.reactions"
   ]
  },
  {
   "cell_type": "code",
   "execution_count": 32,
   "metadata": {
    "ExecuteTime": {
     "end_time": "2020-10-09T11:31:20.977181Z",
     "start_time": "2020-10-09T11:31:20.973178Z"
    }
   },
   "outputs": [
    {
     "data": {
      "text/plain": [
       "0.07359878850818385"
      ]
     },
     "execution_count": 32,
     "metadata": {},
     "output_type": "execute_result"
    }
   ],
   "source": [
    "wt_growth"
   ]
  },
  {
   "cell_type": "code",
   "execution_count": 14,
   "metadata": {
    "ExecuteTime": {
     "end_time": "2020-10-09T11:25:00.547405Z",
     "start_time": "2020-10-09T11:25:00.501407Z"
    }
   },
   "outputs": [
    {
     "data": {
      "text/plain": [
       "(0.07419424700824649, 0.00019741648107369245)"
      ]
     },
     "execution_count": 14,
     "metadata": {},
     "output_type": "execute_result"
    }
   ],
   "source": [
    "optknock_brute_force(model, \"BIOMASS_SCO_tRNA\", \"DM_secondary_metabolite\", wt_growth*0.1)"
   ]
  },
  {
   "cell_type": "code",
   "execution_count": 15,
   "metadata": {
    "ExecuteTime": {
     "end_time": "2020-10-09T11:26:48.658870Z",
     "start_time": "2020-10-09T11:26:48.652880Z"
    }
   },
   "outputs": [],
   "source": [
    "model.reactions.BIOMASS_SCO_tRNA.lower_bound = wt_growth*0.5\n",
    "model.objective = model.reactions.DM_secondary_metabolite"
   ]
  },
  {
   "cell_type": "code",
   "execution_count": 19,
   "metadata": {
    "ExecuteTime": {
     "end_time": "2020-10-09T11:27:37.614827Z",
     "start_time": "2020-10-09T11:27:37.291787Z"
    }
   },
   "outputs": [
    {
     "name": "stdout",
     "output_type": "stream",
     "text": [
      "IN_FLUXES IN_FLUXES OUT_FLUXES OUT_FLUXES        OBJECTIVES        OBJECTIVES\n",
      "    ID       FLUX       ID        FLUX               ID               FLUX   \n",
      "     o2_e      1.22    h2o_e       3.56    DM_secondary_metabolite   0.0979  \n",
      "    nh4_e     0.912    co2_e       1.36                                 nan  \n",
      " glc__D_e       0.8      h_e     0.0521                                 nan  \n",
      "     pi_e    0.0365   5mtr_e    0.00144                                 nan  \n",
      "    so4_e   0.00963                 nan                                 nan  \n",
      "      k_e   0.00799                 nan                                 nan  \n",
      "    fe2_e  0.000722                 nan                                 nan  \n"
     ]
    },
    {
     "name": "stderr",
     "output_type": "stream",
     "text": [
      "C:\\Users\\snorres\\AppData\\Local\\Continuum\\miniconda3\\lib\\site-packages\\cobra\\core\\summary\\summary.py:206: UserWarning:\n",
      "\n",
      "Setting float_format to anything other than None will cause nan to be present in the output.\n",
      "\n"
     ]
    }
   ],
   "source": [
    "model.optimize()\n",
    "print(model.summary(threshold = 1e-4))"
   ]
  }
 ],
 "metadata": {
  "kernelspec": {
   "display_name": "Python 3",
   "language": "python",
   "name": "python3"
  },
  "language_info": {
   "codemirror_mode": {
    "name": "ipython",
    "version": 3
   },
   "file_extension": ".py",
   "mimetype": "text/x-python",
   "name": "python",
   "nbconvert_exporter": "python",
   "pygments_lexer": "ipython3",
   "version": "3.7.3"
  }
 },
 "nbformat": 4,
 "nbformat_minor": 2
}
