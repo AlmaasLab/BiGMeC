{
 "cells": [
  {
   "cell_type": "code",
   "execution_count": 19,
   "metadata": {},
   "outputs": [],
   "source": [
    "import sys\n",
    "sys.path.append(\"../Scripts\")\n",
    "\n",
    "import numpy as np\n",
    "import bigmec"
   ]
  },
  {
   "cell_type": "code",
   "execution_count": 2,
   "metadata": {},
   "outputs": [],
   "source": [
    "gb_list = bigmec.get_gb_list_from_antismash_output(\"../Data/mibig/20.gbk\")"
   ]
  },
  {
   "cell_type": "code",
   "execution_count": 3,
   "metadata": {},
   "outputs": [
    {
     "name": "stdout",
     "output_type": "stream",
     "text": [
      "ID: BGC0000020.1\n",
      "Name: BGC0000020\n",
      "Description: Actinosynnema pretiosum subsp. auranticum maytansinoid antitumor agent ansamitocin biosynthetic gene cluster I, partial sequence\n",
      "Number of features: 250\n",
      "/molecule_type=DNA\n",
      "/topology=linear\n",
      "/data_file_division=BCT\n",
      "/date=26-JUL-2016\n",
      "/accessions=['BGC0000020']\n",
      "/sequence_version=1\n",
      "/keywords=['']\n",
      "/source=Actinosynnema pretiosum subsp. auranticum\n",
      "/organism=Actinosynnema pretiosum subsp. auranticum\n",
      "/taxonomy=['Bacteria', 'Actinobacteria', 'Pseudonocardiales', 'Pseudonocardiaceae', 'Actinosynnema']\n",
      "/comment=NOTE: This is a single cluster extracted from a larger record!\n",
      "/structured_comment=OrderedDict([('antiSMASH-Data', OrderedDict([('Version', '5.1.0-0c1c90d(changed)'), ('Run date', '2019-11-11 14:55:24')]))])\n",
      "Seq('GATCGTGCCGGGTCTGGTGGTGGCCCTCGCCGCCACCGGCGTCCTCGCGGCCCC...CGA', IUPACAmbiguousDNA())\n"
     ]
    }
   ],
   "source": [
    "for i in gb_list:\n",
    "    print(i)"
   ]
  },
  {
   "cell_type": "code",
   "execution_count": 15,
   "metadata": {},
   "outputs": [
    {
     "name": "stdout",
     "output_type": "stream",
     "text": [
      "['T1PKS', 'NRPS-like']\n"
     ]
    }
   ],
   "source": [
    "for f in i.features:\n",
    "    if f.type == \"region\":\n",
    "        print(f.qualifiers[\"product\"])"
   ]
  },
  {
   "cell_type": "code",
   "execution_count": 4,
   "metadata": {},
   "outputs": [],
   "source": [
    "core_list = bigmec.find_cores_in_cluster(gb_list)"
   ]
  },
  {
   "cell_type": "code",
   "execution_count": 7,
   "metadata": {},
   "outputs": [],
   "source": [
    "core_1 = core_list[0]\n"
   ]
  },
  {
   "cell_type": "code",
   "execution_count": 9,
   "metadata": {},
   "outputs": [],
   "source": [
    "core_2 = core_list[1]"
   ]
  },
  {
   "cell_type": "code",
   "execution_count": 13,
   "metadata": {},
   "outputs": [],
   "source": [
    "s1=  core_1[\"start\"]"
   ]
  },
  {
   "cell_type": "code",
   "execution_count": 18,
   "metadata": {},
   "outputs": [
    {
     "ename": "NameError",
     "evalue": "name 'np' is not defined",
     "output_type": "error",
     "traceback": [
      "\u001b[1;31m---------------------------------------------------------------------------\u001b[0m",
      "\u001b[1;31mNameError\u001b[0m                                 Traceback (most recent call last)",
      "\u001b[1;32m<ipython-input-18-f841329ee867>\u001b[0m in \u001b[0;36m<module>\u001b[1;34m\u001b[0m\n\u001b[0;32m      1\u001b[0m \u001b[0mnew_core_ranges\u001b[0m \u001b[1;33m=\u001b[0m \u001b[1;33m[\u001b[0m\u001b[1;33m]\u001b[0m\u001b[1;33m\u001b[0m\u001b[1;33m\u001b[0m\u001b[0m\n\u001b[0;32m      2\u001b[0m \u001b[1;32mfor\u001b[0m \u001b[0mcore\u001b[0m \u001b[1;32min\u001b[0m \u001b[0mcore_list\u001b[0m\u001b[1;33m:\u001b[0m\u001b[1;33m\u001b[0m\u001b[1;33m\u001b[0m\u001b[0m\n\u001b[1;32m----> 3\u001b[1;33m     \u001b[0mnew_core_ranges\u001b[0m\u001b[1;33m.\u001b[0m\u001b[0mappend\u001b[0m\u001b[1;33m(\u001b[0m\u001b[0mnp\u001b[0m\u001b[1;33m.\u001b[0m\u001b[0marange\u001b[0m\u001b[1;33m(\u001b[0m\u001b[0mcore\u001b[0m\u001b[1;33m[\u001b[0m\u001b[1;34m\"start\"\u001b[0m\u001b[1;33m]\u001b[0m\u001b[1;33m,\u001b[0m \u001b[0mcore\u001b[0m\u001b[1;33m[\u001b[0m\u001b[1;34m\"end\"\u001b[0m\u001b[1;33m]\u001b[0m\u001b[1;33m)\u001b[0m\u001b[1;33m)\u001b[0m\u001b[1;33m\u001b[0m\u001b[1;33m\u001b[0m\u001b[0m\n\u001b[0m",
      "\u001b[1;31mNameError\u001b[0m: name 'np' is not defined"
     ]
    }
   ],
   "source": [
    "new_core_ranges = []\n",
    "for core in core_list:\n",
    "    new_core_ranges.append(np.arange(core[\"start\"], core[\"end\"]))"
   ]
  },
  {
   "cell_type": "code",
   "execution_count": 26,
   "metadata": {},
   "outputs": [],
   "source": [
    "core_list.sort(key = lambda i: i['start'])"
   ]
  },
  {
   "cell_type": "code",
   "execution_count": 28,
   "metadata": {},
   "outputs": [],
   "source": [
    "def in_range(x, core):\n",
    "    if x <= core[\"end\"]:\n",
    "        if x >= core[\"start\"]:\n",
    "            return True\n",
    "    return False\n",
    "\n",
    "def makew_new_core(start, stop, ttype, core_number):\n",
    "    return {'start': start, 'end': stop,'type': ttype,\n",
    "                         'core_number': core_number}\n",
    "\n",
    "def in_other_cores(core, core_list):\n",
    "    match_list = []\n",
    "    N_cores = len(core_list)\n",
    "    for c in core_list:\n",
    "        if c[\"core_number\"]!= core[\"core_number\"]:\n",
    "            if in_range(core[\"start\"], c):\n",
    "                end = min(core[\"end\"], c[\"end\"])\n",
    "                new_core = make_new_core"
   ]
  },
  {
   "cell_type": "code",
   "execution_count": 6,
   "metadata": {},
   "outputs": [
    {
     "name": "stdout",
     "output_type": "stream",
     "text": [
      "{'start': ExactPosition(13740), 'end': ExactPosition(37041), 'type': 'T1PKS', 'core_number': '1'}\n",
      "{'start': ExactPosition(22986), 'end': ExactPosition(37041), 'type': 'NRPS-like', 'core_number': '2'}\n",
      "{'start': ExactPosition(57225), 'end': ExactPosition(71979), 'type': 'T1PKS', 'core_number': '3'}\n"
     ]
    }
   ],
   "source": [
    "new_cores = []\n",
    "cores = []\n",
    "\n",
    "for i, core in enumerate(core_list):\n",
    "    if i == 0:\n",
    "        core_range = (core[\"start\"], core[\"end\"])\n",
    "        cores.append(core)\n",
    "    else:\n",
    "        if core[\"start\"] < core_range[1]:\n",
    "            \n",
    "    \n",
    "    print(core)"
   ]
  },
  {
   "cell_type": "code",
   "execution_count": null,
   "metadata": {},
   "outputs": [],
   "source": [
    "core."
   ]
  },
  {
   "cell_type": "code",
   "execution_count": 19,
   "metadata": {},
   "outputs": [],
   "source": [
    "merged_core_list = bigmec.merge_core_list(core_list)"
   ]
  },
  {
   "cell_type": "code",
   "execution_count": 33,
   "metadata": {},
   "outputs": [
    {
     "data": {
      "text/plain": [
       "[{'start': ExactPosition(13740),\n",
       "  'end': ExactPosition(37041),\n",
       "  'type': 'T1PKS',\n",
       "  'core_number': '1'},\n",
       " {'start': ExactPosition(22986),\n",
       "  'end': ExactPosition(37041),\n",
       "  'type': 'NRPS-like',\n",
       "  'core_number': '2'},\n",
       " {'start': ExactPosition(57225),\n",
       "  'end': ExactPosition(71979),\n",
       "  'type': 'T1PKS',\n",
       "  'core_number': '3'}]"
      ]
     },
     "execution_count": 33,
     "metadata": {},
     "output_type": "execute_result"
    }
   ],
   "source": [
    "core_list"
   ]
  },
  {
   "cell_type": "code",
   "execution_count": 34,
   "metadata": {},
   "outputs": [
    {
     "data": {
      "text/plain": [
       "ExactPosition(13740)"
      ]
     },
     "execution_count": 34,
     "metadata": {},
     "output_type": "execute_result"
    }
   ],
   "source": []
  },
  {
   "cell_type": "code",
   "execution_count": 25,
   "metadata": {},
   "outputs": [
    {
     "data": {
      "text/plain": [
       "[{'start': ExactPosition(13740),\n",
       "  'end': ExactPosition(71979),\n",
       "  'type': 'T1PKS',\n",
       "  'core_number': '1'}]"
      ]
     },
     "execution_count": 25,
     "metadata": {},
     "output_type": "execute_result"
    }
   ],
   "source": [
    "merged_core_list"
   ]
  },
  {
   "cell_type": "code",
   "execution_count": 27,
   "metadata": {},
   "outputs": [],
   "source": [
    "CDS2 = bigmec.structure_gbk_information(core_list, gb_list)"
   ]
  },
  {
   "cell_type": "code",
   "execution_count": 32,
   "metadata": {},
   "outputs": [
    {
     "data": {
      "text/plain": [
       "{'1': {'type': 'T1PKS',\n",
       "  'modules': [{'extender_unit': 'mal -> mal',\n",
       "    'start': ExactPosition(13992),\n",
       "    'end': ExactPosition(17682)},\n",
       "   {'extender_unit': 'mxmal -> ccmxmal',\n",
       "    'start': ExactPosition(17751),\n",
       "    'end': ExactPosition(22872)},\n",
       "   {'extender_unit': 'mal -> ccmal',\n",
       "    'start': ExactPosition(23082),\n",
       "    'end': ExactPosition(28155)},\n",
       "   {'extender_unit': 'mmal -> Me-redmal',\n",
       "    'start': ExactPosition(28227),\n",
       "    'end': ExactPosition(33978)}]},\n",
       " '2': {'type': 'NRPS-like',\n",
       "  'modules': [{'extender_unit': 'mal -> ccmal',\n",
       "    'start': ExactPosition(23082),\n",
       "    'end': ExactPosition(28155)},\n",
       "   {'extender_unit': 'mmal -> Me-redmal',\n",
       "    'start': ExactPosition(28227),\n",
       "    'end': ExactPosition(33978)}]},\n",
       " '3': {'type': 'T1PKS',\n",
       "  'modules': [{'extender_unit': 'mal -> ccmal',\n",
       "    'start': ExactPosition(57258),\n",
       "    'end': ExactPosition(62184)},\n",
       "   {'extender_unit': 'mmal -> Me-ccmal',\n",
       "    'start': ExactPosition(62244),\n",
       "    'end': ExactPosition(67095)},\n",
       "   {'extender_unit': 'mmal -> Me-ohmal',\n",
       "    'start': ExactPosition(67488),\n",
       "    'end': ExactPosition(71868)}]}}"
      ]
     },
     "execution_count": 32,
     "metadata": {},
     "output_type": "execute_result"
    }
   ],
   "source": [
    "CDS2[\"core_structure\"]"
   ]
  },
  {
   "cell_type": "code",
   "execution_count": 26,
   "metadata": {},
   "outputs": [],
   "source": [
    "CDS = bigmec.structure_gbk_information(merged_core_list, gb_list)"
   ]
  },
  {
   "cell_type": "code",
   "execution_count": 31,
   "metadata": {},
   "outputs": [
    {
     "data": {
      "text/plain": [
       "{'1': {'type': 'T1PKS',\n",
       "  'modules': [{'extender_unit': 'mal -> mal',\n",
       "    'start': ExactPosition(13992),\n",
       "    'end': ExactPosition(17682)},\n",
       "   {'extender_unit': 'mxmal -> ccmxmal',\n",
       "    'start': ExactPosition(17751),\n",
       "    'end': ExactPosition(22872)},\n",
       "   {'extender_unit': 'mal -> ccmal',\n",
       "    'start': ExactPosition(23082),\n",
       "    'end': ExactPosition(28155)},\n",
       "   {'extender_unit': 'mmal -> Me-redmal',\n",
       "    'start': ExactPosition(28227),\n",
       "    'end': ExactPosition(33978)},\n",
       "   {'extender_unit': 'mal -> ccmal',\n",
       "    'start': ExactPosition(57258),\n",
       "    'end': ExactPosition(62184)},\n",
       "   {'extender_unit': 'mmal -> Me-ccmal',\n",
       "    'start': ExactPosition(62244),\n",
       "    'end': ExactPosition(67095)},\n",
       "   {'extender_unit': 'mmal -> Me-ohmal',\n",
       "    'start': ExactPosition(67488),\n",
       "    'end': ExactPosition(71868)}]}}"
      ]
     },
     "execution_count": 31,
     "metadata": {},
     "output_type": "execute_result"
    }
   ],
   "source": [
    "CDS[\"core_structure\"]"
   ]
  }
 ],
 "metadata": {
  "kernelspec": {
   "display_name": "Python 3",
   "language": "python",
   "name": "python3"
  },
  "language_info": {
   "codemirror_mode": {
    "name": "ipython",
    "version": 3
   },
   "file_extension": ".py",
   "mimetype": "text/x-python",
   "name": "python",
   "nbconvert_exporter": "python",
   "pygments_lexer": "ipython3",
   "version": "3.7.3"
  }
 },
 "nbformat": 4,
 "nbformat_minor": 2
}
